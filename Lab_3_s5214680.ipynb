{
  "nbformat": 4,
  "nbformat_minor": 0,
  "metadata": {
    "colab": {
      "name": "Lab 3_s5214680.ipynb",
      "provenance": [],
      "collapsed_sections": [],
      "authorship_tag": "ABX9TyOFE0HFWup8xxO7jjzntlSr",
      "include_colab_link": true
    },
    "kernelspec": {
      "name": "python3",
      "display_name": "Python 3"
    },
    "language_info": {
      "name": "python"
    }
  },
  "cells": [
    {
      "cell_type": "markdown",
      "metadata": {
        "id": "view-in-github",
        "colab_type": "text"
      },
      "source": [
        "<a href=\"https://colab.research.google.com/github/singithi03/Data-Analytics_s5214680/blob/Lab---3/Lab_3_s5214680.ipynb\" target=\"_parent\"><img src=\"https://colab.research.google.com/assets/colab-badge.svg\" alt=\"Open In Colab\"/></a>"
      ]
    },
    {
      "cell_type": "markdown",
      "source": [
        "### **I.Classification**"
      ],
      "metadata": {
        "id": "lTohBL_XcrSb"
      }
    },
    {
      "cell_type": "code",
      "execution_count": null,
      "metadata": {
        "id": "hb7-LG4McScH"
      },
      "outputs": [],
      "source": [
        "#import necessary modeules\n",
        "from sklearn import datasets\n",
        "import matplotlib.pyplot as plt\n",
        "from sklearn.metrics import classification_report\n",
        "from sklearn.metrics import confusion_matrix\n",
        "from sklearn.model_selection import cross_val_score\n",
        "from sklearn.neighbors import KNeighborsClassifier\n",
        "from sklearn.svm import SVC\n",
        "from sklearn.naive_bayes import GaussianNB\n",
        "from sklearn.linear_model import LinearRegression\n",
        "from sklearn.linear_model import LogisticRegression\n",
        "\n",
        "import seaborn as sns\n",
        "import pandas as pd\n",
        "\n",
        "#Load the dataset\n",
        "digits = datasets.load_digits()"
      ]
    },
    {
      "cell_type": "code",
      "source": [
        "from sklearn.model_selection import train_test_split\n",
        "import numpy as np\n",
        "\n",
        "#create features and target arrays\n",
        "X = digits.data\n",
        "y = digits.target\n",
        "\n",
        "#Split in to training and testing data\n",
        "X_train, X_test, y_train, y_test = train_test_split(X,y, test_size = 0.2) "
      ],
      "metadata": {
        "id": "PSpVEu0UdOeJ"
      },
      "execution_count": null,
      "outputs": []
    },
    {
      "cell_type": "markdown",
      "source": [
        "# **1. K-nearest Neighbors**"
      ],
      "metadata": {
        "id": "5Fq_9qjLp_yu"
      }
    },
    {
      "cell_type": "code",
      "source": [
        "kNN = KNeighborsClassifier(n_neighbors=3)\n",
        "kNN.fit(X_train, y_train)\n",
        "kNN.score(X_test,y_test)"
      ],
      "metadata": {
        "colab": {
          "base_uri": "https://localhost:8080/"
        },
        "id": "58ASfd7Hp9ij",
        "outputId": "e28d1d08-e230-482f-aafe-b745690ee8d5"
      },
      "execution_count": null,
      "outputs": [
        {
          "output_type": "execute_result",
          "data": {
            "text/plain": [
              "0.975"
            ]
          },
          "metadata": {},
          "execution_count": 4
        }
      ]
    },
    {
      "cell_type": "code",
      "source": [
        "#Plot accuracy for 8 values\n",
        "tr =[]\n",
        "te = []\n",
        "for i in range(1,8):\n",
        "  kNN = KNeighborsClassifier(n_neighbors=i)\n",
        "  kNN.fit(X_train, y_train)\n",
        "  tr.append(kNN.score(X_train,y_train))\n",
        "  te.append(kNN.score(X_test,y_test))\n",
        "te\n"
      ],
      "metadata": {
        "colab": {
          "base_uri": "https://localhost:8080/"
        },
        "id": "n3sW53OTsnBr",
        "outputId": "0d338473-1caa-465d-a15a-c72937c16581"
      },
      "execution_count": null,
      "outputs": [
        {
          "output_type": "execute_result",
          "data": {
            "text/plain": [
              "[0.975,\n",
              " 0.9638888888888889,\n",
              " 0.975,\n",
              " 0.9722222222222222,\n",
              " 0.9777777777777777,\n",
              " 0.9722222222222222,\n",
              " 0.975]"
            ]
          },
          "metadata": {},
          "execution_count": 7
        }
      ]
    },
    {
      "cell_type": "code",
      "source": [
        "tr"
      ],
      "metadata": {
        "colab": {
          "base_uri": "https://localhost:8080/"
        },
        "id": "M9MQR7071TQS",
        "outputId": "36af3653-1003-4403-d8ad-8769b7d1f675"
      },
      "execution_count": null,
      "outputs": [
        {
          "output_type": "execute_result",
          "data": {
            "text/plain": [
              "[1.0,\n",
              " 0.9958246346555324,\n",
              " 0.9965205288796103,\n",
              " 0.9944328462073765,\n",
              " 0.9937369519832986,\n",
              " 0.9916492693110647,\n",
              " 0.9937369519832986]"
            ]
          },
          "metadata": {},
          "execution_count": 8
        }
      ]
    },
    {
      "cell_type": "code",
      "source": [
        "import numpy as np\n",
        "import matplotlib.pyplot as plt\n",
        "\n",
        "fig = plt.figure()\n",
        "\n",
        "ax = fig.add_axes([0,0,1,1])\n",
        "\n",
        "ax.set_xlim(1,8)\n",
        "ax.set_ylim(0.960,1)\n",
        "\n",
        "ax.plot(tr, label='Training Accuracy')\n",
        "ax.plot(te, label='Testing Accuracy')\n",
        "\n",
        "ax.set_xlabel('Number of Neighbors')\n",
        "ax.set_ylabel('Accuracy')\n",
        "ax.set_title('k-NN: Varying number of neighbors')\n",
        "ax.legend()"
      ],
      "metadata": {
        "colab": {
          "base_uri": "https://localhost:8080/",
          "height": 383
        },
        "id": "PTKvFgHVthV5",
        "outputId": "c5c9281c-33ea-4be3-a46b-72876cb38614"
      },
      "execution_count": null,
      "outputs": [
        {
          "output_type": "execute_result",
          "data": {
            "text/plain": [
              "<matplotlib.legend.Legend at 0x7f4292207f50>"
            ]
          },
          "metadata": {},
          "execution_count": 11
        },
        {
          "output_type": "display_data",
          "data": {
            "text/plain": [
              "<Figure size 432x288 with 1 Axes>"
            ],
            "image/png": "[encoded data removed]"
          },
          "metadata": {
            "needs_background": "light"
          }
        }
      ]
    },
    {
      "cell_type": "markdown",
      "source": [
        "# *The best K is 4. Because, the highest accuracy we get at neighbor size 4, which is 0.977."
      ],
      "metadata": {
        "id": "ENCQuVEP3Qxs"
      }
    },
    {
      "cell_type": "markdown",
      "source": [
        "# **2. Support Vector Machine**"
      ],
      "metadata": {
        "id": "2L9tARaJ5qwV"
      }
    },
    {
      "cell_type": "code",
      "source": [
        "svm = SVC(kernel='linear')\n",
        "svm.fit(X_train, y_train)\n",
        "y_pred = svm.predict(X_test)\n",
        "print(classification_report(y_test,y_pred))"
      ],
      "metadata": {
        "colab": {
          "base_uri": "https://localhost:8080/"
        },
        "id": "x-udqjNt5ezo",
        "outputId": "76a111e0-978c-4eaf-de64-729209525e6e"
      },
      "execution_count": null,
      "outputs": [
        {
          "output_type": "stream",
          "name": "stdout",
          "text": [
            "              precision    recall  f1-score   support\n",
            "\n",
            "           0       1.00      1.00      1.00        35\n",
            "           1       0.98      0.98      0.98        44\n",
            "           2       0.97      1.00      0.99        37\n",
            "           3       0.98      0.98      0.98        43\n",
            "           4       1.00      1.00      1.00        29\n",
            "           5       1.00      1.00      1.00        35\n",
            "           6       1.00      1.00      1.00        30\n",
            "           7       0.97      1.00      0.99        39\n",
            "           8       0.91      0.94      0.92        32\n",
            "           9       1.00      0.92      0.96        36\n",
            "\n",
            "    accuracy                           0.98       360\n",
            "   macro avg       0.98      0.98      0.98       360\n",
            "weighted avg       0.98      0.98      0.98       360\n",
            "\n"
          ]
        }
      ]
    },
    {
      "cell_type": "code",
      "source": [
        "svm = SVC(kernel='poly')\n",
        "svm.fit(X_train, y_train)\n",
        "y_pred = svm.predict(X_test)\n",
        "print(classification_report(y_test,y_pred))"
      ],
      "metadata": {
        "colab": {
          "base_uri": "https://localhost:8080/"
        },
        "id": "vnf4dJo--1gi",
        "outputId": "6c13da93-ac03-4366-95bb-b57560d3016f"
      },
      "execution_count": null,
      "outputs": [
        {
          "output_type": "stream",
          "name": "stdout",
          "text": [
            "              precision    recall  f1-score   support\n",
            "\n",
            "           0       1.00      1.00      1.00        35\n",
            "           1       1.00      1.00      1.00        44\n",
            "           2       0.97      1.00      0.99        37\n",
            "           3       1.00      0.98      0.99        43\n",
            "           4       1.00      1.00      1.00        29\n",
            "           5       1.00      1.00      1.00        35\n",
            "           6       1.00      1.00      1.00        30\n",
            "           7       1.00      1.00      1.00        39\n",
            "           8       0.94      1.00      0.97        32\n",
            "           9       1.00      0.94      0.97        36\n",
            "\n",
            "    accuracy                           0.99       360\n",
            "   macro avg       0.99      0.99      0.99       360\n",
            "weighted avg       0.99      0.99      0.99       360\n",
            "\n"
          ]
        }
      ]
    },
    {
      "cell_type": "code",
      "source": [
        "svm = SVC(kernel='sigmoid')\n",
        "svm.fit(X_train, y_train)\n",
        "y_pred = svm.predict(X_test)\n",
        "print(classification_report(y_test,y_pred))"
      ],
      "metadata": {
        "colab": {
          "base_uri": "https://localhost:8080/"
        },
        "id": "sizuBz4v_B8H",
        "outputId": "267f50fb-1d8a-428f-cdd6-e94630d6d33b"
      },
      "execution_count": null,
      "outputs": [
        {
          "output_type": "stream",
          "name": "stdout",
          "text": [
            "              precision    recall  f1-score   support\n",
            "\n",
            "           0       1.00      1.00      1.00        35\n",
            "           1       0.82      0.75      0.79        44\n",
            "           2       1.00      0.92      0.96        37\n",
            "           3       0.95      0.95      0.95        43\n",
            "           4       0.93      0.93      0.93        29\n",
            "           5       1.00      0.97      0.99        35\n",
            "           6       1.00      1.00      1.00        30\n",
            "           7       0.83      1.00      0.91        39\n",
            "           8       0.74      0.81      0.78        32\n",
            "           9       0.82      0.75      0.78        36\n",
            "\n",
            "    accuracy                           0.91       360\n",
            "   macro avg       0.91      0.91      0.91       360\n",
            "weighted avg       0.91      0.91      0.91       360\n",
            "\n"
          ]
        }
      ]
    },
    {
      "cell_type": "markdown",
      "source": [
        "# *Above compared the three svm kernel namely linear, poly and sigmoid. The accuracy for poly kernel shows the highest accuracy 0.99, the lowest accuracy is 0.91 using sigmoid kernel."
      ],
      "metadata": {
        "id": "bOXSu82w_Jwa"
      }
    },
    {
      "cell_type": "markdown",
      "source": [
        "# **3. Naive Bayes**"
      ],
      "metadata": {
        "id": "KhjMQjm3CC_6"
      }
    },
    {
      "cell_type": "code",
      "source": [
        "bayes = GaussianNB()\n",
        "bayes.fit(X_train, y_train)\n",
        "y_pred = bayes.predict(X_test)\n",
        "conf_m = confusion_matrix(y_test,y_pred)\n",
        "sns.heatmap(conf_m, annot=True)"
      ],
      "metadata": {
        "colab": {
          "base_uri": "https://localhost:8080/",
          "height": 282
        },
        "id": "wrKFV-ok_IVz",
        "outputId": "23e73b8d-bed0-46f3-a1d2-f20a909c9cd4"
      },
      "execution_count": null,
      "outputs": [
        {
          "output_type": "execute_result",
          "data": {
            "text/plain": [
              "<matplotlib.axes._subplots.AxesSubplot at 0x7f43864054d0>"
            ]
          },
          "metadata": {},
          "execution_count": 49
        },
        {
          "output_type": "display_data",
          "data": {
            "text/plain": [
              "<Figure size 432x288 with 2 Axes>"
            ],
            "image/png": "[encoded data removed]"
          },
          "metadata": {
            "needs_background": "light"
          }
        }
      ]
    },
    {
      "cell_type": "code",
      "source": [
        "import numpy as np\n",
        "import matplotlib.pyplot as plt\n",
        "from sklearn import metrics\n",
        "from sklearn.metrics import accuracy_score\n",
        "\n",
        "fig = plt.figure()\n",
        "ax = fig.add_axes([0,0,1,1])\n",
        "\n",
        "ax.set_ylim(0,1)\n",
        "ax.set_xlabel('Classifier')\n",
        "ax.set_ylabel('Accuracy')\n",
        "\n",
        "\n",
        "# Model Accuracy, how often is the classifier correct?\n",
        "\n",
        "bay = 0.82\n",
        "KNN = 0.977\n",
        "svmm = 0.99\n",
        "\n",
        "classifier = ['bay', 'KNN', 'SVM']\n",
        "accuracy = [bay, KNN, svmm]\n",
        "ax.bar(classifier, accuracy)\n",
        "plt.show()"
      ],
      "metadata": {
        "colab": {
          "base_uri": "https://localhost:8080/",
          "height": 354
        },
        "id": "IUirDHhVE1UD",
        "outputId": "5e47b330-4f10-4661-ddd5-1f95a0cde79d"
      },
      "execution_count": null,
      "outputs": [
        {
          "output_type": "display_data",
          "data": {
            "text/plain": [
              "<Figure size 432x288 with 1 Axes>"
            ],
            "image/png": "[encoded data removed]"
          },
          "metadata": {
            "needs_background": "light"
          }
        }
      ]
    },
    {
      "cell_type": "markdown",
      "source": [
        "### **II. REGRESSION**"
      ],
      "metadata": {
        "id": "LUUk8n_SwzMQ"
      }
    },
    {
      "cell_type": "markdown",
      "source": [
        "## **1.Linear Regression**"
      ],
      "metadata": {
        "id": "w4XtiBYVyvQn"
      }
    },
    {
      "cell_type": "code",
      "source": [
        "import matplotlib.pyplot as plt\n",
        "import pandas as pd\n",
        "\n",
        "gap = pd.read_csv('gapminder.csv')\n",
        "gap.head()"
      ],
      "metadata": {
        "colab": {
          "base_uri": "https://localhost:8080/",
          "height": 206
        },
        "id": "tkHjhIAiw9Yx",
        "outputId": "ecad1a0e-4af7-4fe8-96a3-a798be3c6dff"
      },
      "execution_count": null,
      "outputs": [
        {
          "output_type": "execute_result",
          "data": {
            "text/plain": [
              "   population  fertility  HIV        CO2  BMI_male    GDP  BMI_female  life  \\\n",
              "0    34811059       2.73  0.1   3.328945  24.59620  12314    129.9049  75.3   \n",
              "1    19842251       6.43  2.0   1.474353  22.25083   7103    130.1247  58.3   \n",
              "2    40381860       2.24  0.5   4.785170  27.50170  14646    118.8915  75.5   \n",
              "3     2975029       1.40  0.1   1.804106  25.35542   7383    132.8108  72.5   \n",
              "4    21370348       1.96  0.1  18.016313  27.56373  41312    117.3755  81.5   \n",
              "\n",
              "   child_mortality                      Region  \n",
              "0             29.5  Middle East & North Africa  \n",
              "1            192.0          Sub-Saharan Africa  \n",
              "2             15.4                     America  \n",
              "3             20.0       Europe & Central Asia  \n",
              "4              5.2         East Asia & Pacific  "
            ],
            "text/html": [
              "\n",
              "  <div id=\"df-a41cafa8-d68a-47ce-8e26-c23b5ff42941\">\n",
              "    <div class=\"colab-df-container\">\n",
              "      <div>\n",
              "<style scoped>\n",
              "    .dataframe tbody tr th:only-of-type {\n",
              "        vertical-align: middle;\n",
              "    }\n",
              "\n",
              "    .dataframe tbody tr th {\n",
              "        vertical-align: top;\n",
              "    }\n",
              "\n",
              "    .dataframe thead th {\n",
              "        text-align: right;\n",
              "    }\n",
              "</style>\n",
              "<table border=\"1\" class=\"dataframe\">\n",
              "  <thead>\n",
              "    <tr style=\"text-align: right;\">\n",
              "      <th></th>\n",
              "      <th>population</th>\n",
              "      <th>fertility</th>\n",
              "      <th>HIV</th>\n",
              "      <th>CO2</th>\n",
              "      <th>BMI_male</th>\n",
              "      <th>GDP</th>\n",
              "      <th>BMI_female</th>\n",
              "      <th>life</th>\n",
              "      <th>child_mortality</th>\n",
              "      <th>Region</th>\n",
              "    </tr>\n",
              "  </thead>\n",
              "  <tbody>\n",
              "    <tr>\n",
              "      <th>0</th>\n",
              "      <td>34811059</td>\n",
              "      <td>2.73</td>\n",
              "      <td>0.1</td>\n",
              "      <td>3.328945</td>\n",
              "      <td>24.59620</td>\n",
              "      <td>12314</td>\n",
              "      <td>129.9049</td>\n",
              "      <td>75.3</td>\n",
              "      <td>29.5</td>\n",
              "      <td>Middle East &amp; North Africa</td>\n",
              "    </tr>\n",
              "    <tr>\n",
              "      <th>1</th>\n",
              "      <td>19842251</td>\n",
              "      <td>6.43</td>\n",
              "      <td>2.0</td>\n",
              "      <td>1.474353</td>\n",
              "      <td>22.25083</td>\n",
              "      <td>7103</td>\n",
              "      <td>130.1247</td>\n",
              "      <td>58.3</td>\n",
              "      <td>192.0</td>\n",
              "      <td>Sub-Saharan Africa</td>\n",
              "    </tr>\n",
              "    <tr>\n",
              "      <th>2</th>\n",
              "      <td>40381860</td>\n",
              "      <td>2.24</td>\n",
              "      <td>0.5</td>\n",
              "      <td>4.785170</td>\n",
              "      <td>27.50170</td>\n",
              "      <td>14646</td>\n",
              "      <td>118.8915</td>\n",
              "      <td>75.5</td>\n",
              "      <td>15.4</td>\n",
              "      <td>America</td>\n",
              "    </tr>\n",
              "    <tr>\n",
              "      <th>3</th>\n",
              "      <td>2975029</td>\n",
              "      <td>1.40</td>\n",
              "      <td>0.1</td>\n",
              "      <td>1.804106</td>\n",
              "      <td>25.35542</td>\n",
              "      <td>7383</td>\n",
              "      <td>132.8108</td>\n",
              "      <td>72.5</td>\n",
              "      <td>20.0</td>\n",
              "      <td>Europe &amp; Central Asia</td>\n",
              "    </tr>\n",
              "    <tr>\n",
              "      <th>4</th>\n",
              "      <td>21370348</td>\n",
              "      <td>1.96</td>\n",
              "      <td>0.1</td>\n",
              "      <td>18.016313</td>\n",
              "      <td>27.56373</td>\n",
              "      <td>41312</td>\n",
              "      <td>117.3755</td>\n",
              "      <td>81.5</td>\n",
              "      <td>5.2</td>\n",
              "      <td>East Asia &amp; Pacific</td>\n",
              "    </tr>\n",
              "  </tbody>\n",
              "</table>\n",
              "</div>\n",
              "      <button class=\"colab-df-convert\" onclick=\"convertToInteractive('df-a41cafa8-d68a-47ce-8e26-c23b5ff42941')\"\n",
              "              title=\"Convert this dataframe to an interactive table.\"\n",
              "              style=\"display:none;\">\n",
              "        \n",
              "  <svg xmlns=\"http://www.w3.org/2000/svg\" height=\"24px\"viewBox=\"0 0 24 24\"\n",
              "       width=\"24px\">\n",
              "    <path d=\"M0 0h24v24H0V0z\" fill=\"none\"/>\n",
              "    <path d=\"M18.56 5.44l.94 2.06.94-2.06 2.06-.94-2.06-.94-.94-2.06-.94 2.06-2.06.94zm-11 1L8.5 8.5l.94-2.06 2.06-.94-2.06-.94L8.5 2.5l-.94 2.06-2.06.94zm10 10l.94 2.06.94-2.06 2.06-.94-2.06-.94-.94-2.06-.94 2.06-2.06.94z\"/><path d=\"M17.41 7.96l-1.37-1.37c-.4-.4-.92-.59-1.43-.59-.52 0-1.04.2-1.43.59L10.3 9.45l-7.72 7.72c-.78.78-.78 2.05 0 2.83L4 21.41c.39.39.9.59 1.41.59.51 0 1.02-.2 1.41-.59l7.78-7.78 2.81-2.81c.8-.78.8-2.07 0-2.86zM5.41 20L4 18.59l7.72-7.72 1.47 1.35L5.41 20z\"/>\n",
              "  </svg>\n",
              "      </button>\n",
              "      \n",
              "  <style>\n",
              "    .colab-df-container {\n",
              "      display:flex;\n",
              "      flex-wrap:wrap;\n",
              "      gap: 12px;\n",
              "    }\n",
              "\n",
              "    .colab-df-convert {\n",
              "      background-color: #E8F0FE;\n",
              "      border: none;\n",
              "      border-radius: 50%;\n",
              "      cursor: pointer;\n",
              "      display: none;\n",
              "      fill: #1967D2;\n",
              "      height: 32px;\n",
              "      padding: 0 0 0 0;\n",
              "      width: 32px;\n",
              "    }\n",
              "\n",
              "    .colab-df-convert:hover {\n",
              "      background-color: #E2EBFA;\n",
              "      box-shadow: 0px 1px 2px rgba(60, 64, 67, 0.3), 0px 1px 3px 1px rgba(60, 64, 67, 0.15);\n",
              "      fill: #174EA6;\n",
              "    }\n",
              "\n",
              "    [theme=dark] .colab-df-convert {\n",
              "      background-color: #3B4455;\n",
              "      fill: #D2E3FC;\n",
              "    }\n",
              "\n",
              "    [theme=dark] .colab-df-convert:hover {\n",
              "      background-color: #434B5C;\n",
              "      box-shadow: 0px 1px 3px 1px rgba(0, 0, 0, 0.15);\n",
              "      filter: drop-shadow(0px 1px 2px rgba(0, 0, 0, 0.3));\n",
              "      fill: #FFFFFF;\n",
              "    }\n",
              "  </style>\n",
              "\n",
              "      <script>\n",
              "        const buttonEl =\n",
              "          document.querySelector('#df-a41cafa8-d68a-47ce-8e26-c23b5ff42941 button.colab-df-convert');\n",
              "        buttonEl.style.display =\n",
              "          google.colab.kernel.accessAllowed ? 'block' : 'none';\n",
              "\n",
              "        async function convertToInteractive(key) {\n",
              "          const element = document.querySelector('#df-a41cafa8-d68a-47ce-8e26-c23b5ff42941');\n",
              "          const dataTable =\n",
              "            await google.colab.kernel.invokeFunction('convertToInteractive',\n",
              "                                                     [key], {});\n",
              "          if (!dataTable) return;\n",
              "\n",
              "          const docLinkHtml = 'Like what you see? Visit the ' +\n",
              "            '<a target=\"_blank\" href=https://colab.research.google.com/notebooks/data_table.ipynb>data table notebook</a>'\n",
              "            + ' to learn more about interactive tables.';\n",
              "          element.innerHTML = '';\n",
              "          dataTable['output_type'] = 'display_data';\n",
              "          await google.colab.output.renderOutput(dataTable, element);\n",
              "          const docLink = document.createElement('div');\n",
              "          docLink.innerHTML = docLinkHtml;\n",
              "          element.appendChild(docLink);\n",
              "        }\n",
              "      </script>\n",
              "    </div>\n",
              "  </div>\n",
              "  "
            ]
          },
          "metadata": {},
          "execution_count": 14
        }
      ]
    },
    {
      "cell_type": "code",
      "source": [
        ""
      ],
      "metadata": {
        "id": "yAXzsAMs2VNV"
      },
      "execution_count": null,
      "outputs": []
    }
  ]
}