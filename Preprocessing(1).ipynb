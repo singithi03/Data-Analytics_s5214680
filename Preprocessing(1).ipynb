{
  "cells": [
    {
      "cell_type": "markdown",
      "metadata": {
        "id": "view-in-github",
        "colab_type": "text"
      },
      "source": [
        "<a href=\"https://colab.research.google.com/github/singithi03/Data-Analytics_s5214680/blob/Lab---5/Preprocessing(1).ipynb\" target=\"_parent\"><img src=\"https://colab.research.google.com/assets/colab-badge.svg\" alt=\"Open In Colab\"/></a>"
      ]
    },
    {
      "cell_type": "markdown",
      "metadata": {
        "id": "6mZ5bAyUWN9M"
      },
      "source": [
        "# 01-Preprocessing"
      ]
    },
    {
      "cell_type": "markdown",
      "metadata": {
        "id": "CeHgbpM9WN9O"
      },
      "source": [
        "The first NLP exercise is about preprocessing.\n",
        "\n",
        "You will practice preprocessing using NLTK on raw data. \n",
        "This is the first step in most of the NLP projects, so you have to master it."
      ]
    },
    {
      "cell_type": "markdown",
      "metadata": {
        "id": "ev3Ll7JbWN9P"
      },
      "source": [
        "We will play with the *coldplay.csv* dataset, containing all the songs and lyrics of Coldplay."
      ]
    },
    {
      "cell_type": "markdown",
      "metadata": {
        "id": "KbN63yPaWN9P"
      },
      "source": [
        "As you know, the first step is to import some libraries. So import *nltk* as well as all the libraries you will need."
      ]
    },
    {
      "cell_type": "code",
      "execution_count": 1,
      "metadata": {
        "colab": {
          "base_uri": "https://localhost:8080/"
        },
        "id": "Wt5Mk66sWN9Q",
        "outputId": "3ba8d856-7d3b-45c9-9f97-8bc2ecb75a0c"
      },
      "outputs": [
        {
          "output_type": "stream",
          "name": "stdout",
          "text": [
            "[nltk_data] Downloading package punkt to /root/nltk_data...\n",
            "[nltk_data]   Unzipping tokenizers/punkt.zip.\n",
            "[nltk_data] Downloading package stopwords to /root/nltk_data...\n",
            "[nltk_data]   Unzipping corpora/stopwords.zip.\n",
            "[nltk_data] Downloading package wordnet to /root/nltk_data...\n",
            "[nltk_data]   Unzipping corpora/wordnet.zip.\n",
            "[nltk_data] Downloading package averaged_perceptron_tagger to\n",
            "[nltk_data]     /root/nltk_data...\n",
            "[nltk_data]   Unzipping taggers/averaged_perceptron_tagger.zip.\n"
          ]
        }
      ],
      "source": [
        "# Import NLTK and all the needed libraries\n",
        "import nltk\n",
        "nltk.download('punkt') #Run this line one time to get the resource\n",
        "nltk.download('stopwords') #Run this line one time to get the resource\n",
        "nltk.download('wordnet') #Run this line one time to get the resource\n",
        "nltk.download('averaged_perceptron_tagger') #Run this line one time to get the resource\n",
        "import numpy as np\n",
        "import pandas as pd"
      ]
    },
    {
      "cell_type": "markdown",
      "metadata": {
        "id": "EPSN0i8BWN9R"
      },
      "source": [
        "Load now the dataset using pandas."
      ]
    },
    {
      "cell_type": "code",
      "execution_count": 2,
      "metadata": {
        "colab": {
          "base_uri": "https://localhost:8080/",
          "height": 206
        },
        "id": "JvNDRBLMWN9R",
        "outputId": "6d1af264-6481-42e8-aa0d-f76d9a78e19c"
      },
      "outputs": [
        {
          "output_type": "execute_result",
          "data": {
            "text/plain": [
              "     Artist                           Song  \\\n",
              "0  Coldplay                 Another's Arms   \n",
              "1  Coldplay                Bigger Stronger   \n",
              "2  Coldplay                       Daylight   \n",
              "3  Coldplay                       Everglow   \n",
              "4  Coldplay  Every Teardrop Is A Waterfall   \n",
              "\n",
              "                                                Link  \\\n",
              "0            /c/coldplay/anothers+arms_21079526.html   \n",
              "1          /c/coldplay/bigger+stronger_20032648.html   \n",
              "2                 /c/coldplay/daylight_20032625.html   \n",
              "3                 /c/coldplay/everglow_21104546.html   \n",
              "4  /c/coldplay/every+teardrop+is+a+waterfall_2091...   \n",
              "\n",
              "                                              Lyrics  \n",
              "0  Late night watching tv  \\nUsed to be you here ...  \n",
              "1  I want to be bigger stronger drive a faster ca...  \n",
              "2  To my surprise, and my delight  \\nI saw sunris...  \n",
              "3  Oh, they say people come  \\nThey say people go...  \n",
              "4  I turn the music up, I got my records on  \\nI ...  "
            ],
            "text/html": [
              "\n",
              "  <div id=\"df-22fbdca0-6f00-424d-8290-a10b77b1a45e\">\n",
              "    <div class=\"colab-df-container\">\n",
              "      <div>\n",
              "<style scoped>\n",
              "    .dataframe tbody tr th:only-of-type {\n",
              "        vertical-align: middle;\n",
              "    }\n",
              "\n",
              "    .dataframe tbody tr th {\n",
              "        vertical-align: top;\n",
              "    }\n",
              "\n",
              "    .dataframe thead th {\n",
              "        text-align: right;\n",
              "    }\n",
              "</style>\n",
              "<table border=\"1\" class=\"dataframe\">\n",
              "  <thead>\n",
              "    <tr style=\"text-align: right;\">\n",
              "      <th></th>\n",
              "      <th>Artist</th>\n",
              "      <th>Song</th>\n",
              "      <th>Link</th>\n",
              "      <th>Lyrics</th>\n",
              "    </tr>\n",
              "  </thead>\n",
              "  <tbody>\n",
              "    <tr>\n",
              "      <th>0</th>\n",
              "      <td>Coldplay</td>\n",
              "      <td>Another's Arms</td>\n",
              "      <td>/c/coldplay/anothers+arms_21079526.html</td>\n",
              "      <td>Late night watching tv  \\nUsed to be you here ...</td>\n",
              "    </tr>\n",
              "    <tr>\n",
              "      <th>1</th>\n",
              "      <td>Coldplay</td>\n",
              "      <td>Bigger Stronger</td>\n",
              "      <td>/c/coldplay/bigger+stronger_20032648.html</td>\n",
              "      <td>I want to be bigger stronger drive a faster ca...</td>\n",
              "    </tr>\n",
              "    <tr>\n",
              "      <th>2</th>\n",
              "      <td>Coldplay</td>\n",
              "      <td>Daylight</td>\n",
              "      <td>/c/coldplay/daylight_20032625.html</td>\n",
              "      <td>To my surprise, and my delight  \\nI saw sunris...</td>\n",
              "    </tr>\n",
              "    <tr>\n",
              "      <th>3</th>\n",
              "      <td>Coldplay</td>\n",
              "      <td>Everglow</td>\n",
              "      <td>/c/coldplay/everglow_21104546.html</td>\n",
              "      <td>Oh, they say people come  \\nThey say people go...</td>\n",
              "    </tr>\n",
              "    <tr>\n",
              "      <th>4</th>\n",
              "      <td>Coldplay</td>\n",
              "      <td>Every Teardrop Is A Waterfall</td>\n",
              "      <td>/c/coldplay/every+teardrop+is+a+waterfall_2091...</td>\n",
              "      <td>I turn the music up, I got my records on  \\nI ...</td>\n",
              "    </tr>\n",
              "  </tbody>\n",
              "</table>\n",
              "</div>\n",
              "      <button class=\"colab-df-convert\" onclick=\"convertToInteractive('df-22fbdca0-6f00-424d-8290-a10b77b1a45e')\"\n",
              "              title=\"Convert this dataframe to an interactive table.\"\n",
              "              style=\"display:none;\">\n",
              "        \n",
              "  <svg xmlns=\"http://www.w3.org/2000/svg\" height=\"24px\"viewBox=\"0 0 24 24\"\n",
              "       width=\"24px\">\n",
              "    <path d=\"M0 0h24v24H0V0z\" fill=\"none\"/>\n",
              "    <path d=\"M18.56 5.44l.94 2.06.94-2.06 2.06-.94-2.06-.94-.94-2.06-.94 2.06-2.06.94zm-11 1L8.5 8.5l.94-2.06 2.06-.94-2.06-.94L8.5 2.5l-.94 2.06-2.06.94zm10 10l.94 2.06.94-2.06 2.06-.94-2.06-.94-.94-2.06-.94 2.06-2.06.94z\"/><path d=\"M17.41 7.96l-1.37-1.37c-.4-.4-.92-.59-1.43-.59-.52 0-1.04.2-1.43.59L10.3 9.45l-7.72 7.72c-.78.78-.78 2.05 0 2.83L4 21.41c.39.39.9.59 1.41.59.51 0 1.02-.2 1.41-.59l7.78-7.78 2.81-2.81c.8-.78.8-2.07 0-2.86zM5.41 20L4 18.59l7.72-7.72 1.47 1.35L5.41 20z\"/>\n",
              "  </svg>\n",
              "      </button>\n",
              "      \n",
              "  <style>\n",
              "    .colab-df-container {\n",
              "      display:flex;\n",
              "      flex-wrap:wrap;\n",
              "      gap: 12px;\n",
              "    }\n",
              "\n",
              "    .colab-df-convert {\n",
              "      background-color: #E8F0FE;\n",
              "      border: none;\n",
              "      border-radius: 50%;\n",
              "      cursor: pointer;\n",
              "      display: none;\n",
              "      fill: #1967D2;\n",
              "      height: 32px;\n",
              "      padding: 0 0 0 0;\n",
              "      width: 32px;\n",
              "    }\n",
              "\n",
              "    .colab-df-convert:hover {\n",
              "      background-color: #E2EBFA;\n",
              "      box-shadow: 0px 1px 2px rgba(60, 64, 67, 0.3), 0px 1px 3px 1px rgba(60, 64, 67, 0.15);\n",
              "      fill: #174EA6;\n",
              "    }\n",
              "\n",
              "    [theme=dark] .colab-df-convert {\n",
              "      background-color: #3B4455;\n",
              "      fill: #D2E3FC;\n",
              "    }\n",
              "\n",
              "    [theme=dark] .colab-df-convert:hover {\n",
              "      background-color: #434B5C;\n",
              "      box-shadow: 0px 1px 3px 1px rgba(0, 0, 0, 0.15);\n",
              "      filter: drop-shadow(0px 1px 2px rgba(0, 0, 0, 0.3));\n",
              "      fill: #FFFFFF;\n",
              "    }\n",
              "  </style>\n",
              "\n",
              "      <script>\n",
              "        const buttonEl =\n",
              "          document.querySelector('#df-22fbdca0-6f00-424d-8290-a10b77b1a45e button.colab-df-convert');\n",
              "        buttonEl.style.display =\n",
              "          google.colab.kernel.accessAllowed ? 'block' : 'none';\n",
              "\n",
              "        async function convertToInteractive(key) {\n",
              "          const element = document.querySelector('#df-22fbdca0-6f00-424d-8290-a10b77b1a45e');\n",
              "          const dataTable =\n",
              "            await google.colab.kernel.invokeFunction('convertToInteractive',\n",
              "                                                     [key], {});\n",
              "          if (!dataTable) return;\n",
              "\n",
              "          const docLinkHtml = 'Like what you see? Visit the ' +\n",
              "            '<a target=\"_blank\" href=https://colab.research.google.com/notebooks/data_table.ipynb>data table notebook</a>'\n",
              "            + ' to learn more about interactive tables.';\n",
              "          element.innerHTML = '';\n",
              "          dataTable['output_type'] = 'display_data';\n",
              "          await google.colab.output.renderOutput(dataTable, element);\n",
              "          const docLink = document.createElement('div');\n",
              "          docLink.innerHTML = docLinkHtml;\n",
              "          element.appendChild(docLink);\n",
              "        }\n",
              "      </script>\n",
              "    </div>\n",
              "  </div>\n",
              "  "
            ]
          },
          "metadata": {},
          "execution_count": 2
        }
      ],
      "source": [
        "# TODO: Load the dataset in coldplay.csv\n",
        "df = pd.read_csv('coldplay.csv')\n",
        "df.head()"
      ]
    },
    {
      "cell_type": "markdown",
      "metadata": {
        "id": "Dd_jkICpWN9S"
      },
      "source": [
        "Now, check the dataset, play with it a bit: what are the columns? How many lines? Is there missing data?..."
      ]
    },
    {
      "cell_type": "code",
      "execution_count": 3,
      "metadata": {
        "colab": {
          "base_uri": "https://localhost:8080/"
        },
        "id": "JAIVEwhFWN9S",
        "outputId": "bea75033-6e4c-4ada-a63b-eefaf78c6f4f"
      },
      "outputs": [
        {
          "output_type": "stream",
          "name": "stdout",
          "text": [
            "<class 'pandas.core.frame.DataFrame'>\n",
            "RangeIndex: 120 entries, 0 to 119\n",
            "Data columns (total 4 columns):\n",
            " #   Column  Non-Null Count  Dtype \n",
            "---  ------  --------------  ----- \n",
            " 0   Artist  120 non-null    object\n",
            " 1   Song    120 non-null    object\n",
            " 2   Link    120 non-null    object\n",
            " 3   Lyrics  120 non-null    object\n",
            "dtypes: object(4)\n",
            "memory usage: 3.9+ KB\n"
          ]
        }
      ],
      "source": [
        "# TODO: Explore the data\n",
        "df.info()"
      ]
    },
    {
      "cell_type": "markdown",
      "metadata": {
        "id": "g0fdTPB3WN9T"
      },
      "source": [
        "Now select the song 'Every Teardrop Is A Waterfall' and save the Lyrics text into a variable. Print the output of this variable."
      ]
    },
    {
      "cell_type": "code",
      "execution_count": 4,
      "metadata": {
        "colab": {
          "base_uri": "https://localhost:8080/"
        },
        "id": "5-F7oxK0WN9T",
        "outputId": "47b11920-f525-4fa6-83cd-8395cc6acc79"
      },
      "outputs": [
        {
          "output_type": "stream",
          "name": "stdout",
          "text": [
            "I turn the music up, I got my records on  \n",
            "I shut the world outside until the lights come on  \n",
            "Maybe the streets alight, maybe the trees are gone  \n",
            "I feel my heart start beating to my favourite song  \n",
            "  \n",
            "And all the kids they dance, all the kids all night  \n",
            "Until Monday morning feels another life  \n",
            "I turn the music up  \n",
            "I'm on a roll this time  \n",
            "And heaven is in sight  \n",
            "  \n",
            "I turn the music up, I got my records on  \n",
            "From underneath the rubble sing a rebel song  \n",
            "Don't want to see another generation drop  \n",
            "I'd rather be a comma than a full stop  \n",
            "  \n",
            "Maybe I'm in the black, maybe I'm on my knees  \n",
            "Maybe I'm in the gap between the two trapezes  \n",
            "But my heart is beating and my pulses start  \n",
            "Cathedrals in my heart  \n",
            "  \n",
            "As we saw oh this light I swear you, emerge blinking into  \n",
            "To tell me it's alright  \n",
            "As we soar walls, every siren is a symphony  \n",
            "And every tear's a waterfall  \n",
            "Is a waterfall  \n",
            "Oh  \n",
            "Is a waterfall  \n",
            "Oh oh oh  \n",
            "Is a is a waterfall  \n",
            "Every tear  \n",
            "Is a waterfall  \n",
            "Oh oh oh  \n",
            "  \n",
            "So you can hurt, hurt me bad  \n",
            "But still I'll raise the flag  \n",
            "  \n",
            "Oh  \n",
            "It was a wa wa wa wa wa-aterfall  \n",
            "A wa wa wa wa wa-aterfall  \n",
            "  \n",
            "Every tear  \n",
            "Every tear  \n",
            "Every teardrop is a waterfall  \n",
            "  \n",
            "Every tear  \n",
            "Every tear  \n",
            "Every teardrop is a waterfall  \n",
            "  \n",
            "Every tear  \n",
            "Every tear  \n",
            "Every teardrop is a waterfall\n",
            "\n",
            "\n"
          ]
        }
      ],
      "source": [
        "# TODO: Select the song 'Every Teardrop Is A Waterfall'\n",
        "song = df[df['Song'] == 'Every Teardrop Is A Waterfall']['Lyrics'].values[0]\n",
        "print(song)"
      ]
    },
    {
      "cell_type": "markdown",
      "metadata": {
        "id": "TnMcsS4dWN9T"
      },
      "source": [
        "As you can see, there is some preprocessing needed here. So let's do it! What is usually the first step?"
      ]
    },
    {
      "cell_type": "markdown",
      "metadata": {
        "id": "Mh5C3m33WN9T"
      },
      "source": [
        "Tokenization, yes. So do tokenization on the lyrics of Every Teardrop Is A Waterfall.\n",
        "\n",
        "So you may have to import the needed library from NLTK if you did not yet.\n",
        "\n",
        "Be careful, the output you have from your pandas dataframe may not have the right type, so manipulate it wisely to get a string."
      ]
    },
    {
      "cell_type": "code",
      "execution_count": 5,
      "metadata": {
        "colab": {
          "base_uri": "https://localhost:8080/"
        },
        "id": "RLHrRDiyWN9U",
        "outputId": "e118806f-f413-4294-e3a3-afccf2b60353"
      },
      "outputs": [
        {
          "output_type": "execute_result",
          "data": {
            "text/plain": [
              "['I',\n",
              " 'turn',\n",
              " 'the',\n",
              " 'music',\n",
              " 'up',\n",
              " ',',\n",
              " 'I',\n",
              " 'got',\n",
              " 'my',\n",
              " 'records',\n",
              " 'on',\n",
              " 'I',\n",
              " 'shut',\n",
              " 'the',\n",
              " 'world',\n",
              " 'outside',\n",
              " 'until',\n",
              " 'the',\n",
              " 'lights',\n",
              " 'come',\n",
              " 'on',\n",
              " 'Maybe',\n",
              " 'the',\n",
              " 'streets',\n",
              " 'alight',\n",
              " ',',\n",
              " 'maybe',\n",
              " 'the',\n",
              " 'trees',\n",
              " 'are',\n",
              " 'gone',\n",
              " 'I',\n",
              " 'feel',\n",
              " 'my',\n",
              " 'heart',\n",
              " 'start',\n",
              " 'beating',\n",
              " 'to',\n",
              " 'my',\n",
              " 'favourite',\n",
              " 'song',\n",
              " 'And',\n",
              " 'all',\n",
              " 'the',\n",
              " 'kids',\n",
              " 'they',\n",
              " 'dance',\n",
              " ',',\n",
              " 'all',\n",
              " 'the',\n",
              " 'kids',\n",
              " 'all',\n",
              " 'night',\n",
              " 'Until',\n",
              " 'Monday',\n",
              " 'morning',\n",
              " 'feels',\n",
              " 'another',\n",
              " 'life',\n",
              " 'I',\n",
              " 'turn',\n",
              " 'the',\n",
              " 'music',\n",
              " 'up',\n",
              " 'I',\n",
              " \"'m\",\n",
              " 'on',\n",
              " 'a',\n",
              " 'roll',\n",
              " 'this',\n",
              " 'time',\n",
              " 'And',\n",
              " 'heaven',\n",
              " 'is',\n",
              " 'in',\n",
              " 'sight',\n",
              " 'I',\n",
              " 'turn',\n",
              " 'the',\n",
              " 'music',\n",
              " 'up',\n",
              " ',',\n",
              " 'I',\n",
              " 'got',\n",
              " 'my',\n",
              " 'records',\n",
              " 'on',\n",
              " 'From',\n",
              " 'underneath',\n",
              " 'the',\n",
              " 'rubble',\n",
              " 'sing',\n",
              " 'a',\n",
              " 'rebel',\n",
              " 'song',\n",
              " 'Do',\n",
              " \"n't\",\n",
              " 'want',\n",
              " 'to',\n",
              " 'see',\n",
              " 'another',\n",
              " 'generation',\n",
              " 'drop',\n",
              " 'I',\n",
              " \"'d\",\n",
              " 'rather',\n",
              " 'be',\n",
              " 'a',\n",
              " 'comma',\n",
              " 'than',\n",
              " 'a',\n",
              " 'full',\n",
              " 'stop',\n",
              " 'Maybe',\n",
              " 'I',\n",
              " \"'m\",\n",
              " 'in',\n",
              " 'the',\n",
              " 'black',\n",
              " ',',\n",
              " 'maybe',\n",
              " 'I',\n",
              " \"'m\",\n",
              " 'on',\n",
              " 'my',\n",
              " 'knees',\n",
              " 'Maybe',\n",
              " 'I',\n",
              " \"'m\",\n",
              " 'in',\n",
              " 'the',\n",
              " 'gap',\n",
              " 'between',\n",
              " 'the',\n",
              " 'two',\n",
              " 'trapezes',\n",
              " 'But',\n",
              " 'my',\n",
              " 'heart',\n",
              " 'is',\n",
              " 'beating',\n",
              " 'and',\n",
              " 'my',\n",
              " 'pulses',\n",
              " 'start',\n",
              " 'Cathedrals',\n",
              " 'in',\n",
              " 'my',\n",
              " 'heart',\n",
              " 'As',\n",
              " 'we',\n",
              " 'saw',\n",
              " 'oh',\n",
              " 'this',\n",
              " 'light',\n",
              " 'I',\n",
              " 'swear',\n",
              " 'you',\n",
              " ',',\n",
              " 'emerge',\n",
              " 'blinking',\n",
              " 'into',\n",
              " 'To',\n",
              " 'tell',\n",
              " 'me',\n",
              " 'it',\n",
              " \"'s\",\n",
              " 'alright',\n",
              " 'As',\n",
              " 'we',\n",
              " 'soar',\n",
              " 'walls',\n",
              " ',',\n",
              " 'every',\n",
              " 'siren',\n",
              " 'is',\n",
              " 'a',\n",
              " 'symphony',\n",
              " 'And',\n",
              " 'every',\n",
              " 'tear',\n",
              " \"'s\",\n",
              " 'a',\n",
              " 'waterfall',\n",
              " 'Is',\n",
              " 'a',\n",
              " 'waterfall',\n",
              " 'Oh',\n",
              " 'Is',\n",
              " 'a',\n",
              " 'waterfall',\n",
              " 'Oh',\n",
              " 'oh',\n",
              " 'oh',\n",
              " 'Is',\n",
              " 'a',\n",
              " 'is',\n",
              " 'a',\n",
              " 'waterfall',\n",
              " 'Every',\n",
              " 'tear',\n",
              " 'Is',\n",
              " 'a',\n",
              " 'waterfall',\n",
              " 'Oh',\n",
              " 'oh',\n",
              " 'oh',\n",
              " 'So',\n",
              " 'you',\n",
              " 'can',\n",
              " 'hurt',\n",
              " ',',\n",
              " 'hurt',\n",
              " 'me',\n",
              " 'bad',\n",
              " 'But',\n",
              " 'still',\n",
              " 'I',\n",
              " \"'ll\",\n",
              " 'raise',\n",
              " 'the',\n",
              " 'flag',\n",
              " 'Oh',\n",
              " 'It',\n",
              " 'was',\n",
              " 'a',\n",
              " 'wa',\n",
              " 'wa',\n",
              " 'wa',\n",
              " 'wa',\n",
              " 'wa-aterfall',\n",
              " 'A',\n",
              " 'wa',\n",
              " 'wa',\n",
              " 'wa',\n",
              " 'wa',\n",
              " 'wa-aterfall',\n",
              " 'Every',\n",
              " 'tear',\n",
              " 'Every',\n",
              " 'tear',\n",
              " 'Every',\n",
              " 'teardrop',\n",
              " 'is',\n",
              " 'a',\n",
              " 'waterfall',\n",
              " 'Every',\n",
              " 'tear',\n",
              " 'Every',\n",
              " 'tear',\n",
              " 'Every',\n",
              " 'teardrop',\n",
              " 'is',\n",
              " 'a',\n",
              " 'waterfall',\n",
              " 'Every',\n",
              " 'tear',\n",
              " 'Every',\n",
              " 'tear',\n",
              " 'Every',\n",
              " 'teardrop',\n",
              " 'is',\n",
              " 'a',\n",
              " 'waterfall']"
            ]
          },
          "metadata": {},
          "execution_count": 5
        }
      ],
      "source": [
        "# TODO: Tokenize the lyrics of the song and save the tokens into a variable and print it\n",
        "from nltk.tokenize import word_tokenize\n",
        "\n",
        "tokenized_lyric = word_tokenize(song)\n",
        "tokenized_lyric"
      ]
    },
    {
      "cell_type": "markdown",
      "metadata": {
        "id": "3NKy8DN5WN9U"
      },
      "source": [
        "It begins to look good. But still, we have the punctuation to remove, so let's do this."
      ]
    },
    {
      "cell_type": "code",
      "execution_count": 6,
      "metadata": {
        "colab": {
          "base_uri": "https://localhost:8080/"
        },
        "id": "97JaR17JWN9U",
        "outputId": "e76b7070-8655-469a-ec05-cd55988e18a4"
      },
      "outputs": [
        {
          "output_type": "execute_result",
          "data": {
            "text/plain": [
              "['I',\n",
              " 'turn',\n",
              " 'the',\n",
              " 'music',\n",
              " 'up',\n",
              " 'I',\n",
              " 'got',\n",
              " 'my',\n",
              " 'records',\n",
              " 'on',\n",
              " 'I',\n",
              " 'shut',\n",
              " 'the',\n",
              " 'world',\n",
              " 'outside',\n",
              " 'until',\n",
              " 'the',\n",
              " 'lights',\n",
              " 'come',\n",
              " 'on',\n",
              " 'Maybe',\n",
              " 'the',\n",
              " 'streets',\n",
              " 'alight',\n",
              " 'maybe',\n",
              " 'the',\n",
              " 'trees',\n",
              " 'are',\n",
              " 'gone',\n",
              " 'I',\n",
              " 'feel',\n",
              " 'my',\n",
              " 'heart',\n",
              " 'start',\n",
              " 'beating',\n",
              " 'to',\n",
              " 'my',\n",
              " 'favourite',\n",
              " 'song',\n",
              " 'And',\n",
              " 'all',\n",
              " 'the',\n",
              " 'kids',\n",
              " 'they',\n",
              " 'dance',\n",
              " 'all',\n",
              " 'the',\n",
              " 'kids',\n",
              " 'all',\n",
              " 'night',\n",
              " 'Until',\n",
              " 'Monday',\n",
              " 'morning',\n",
              " 'feels',\n",
              " 'another',\n",
              " 'life',\n",
              " 'I',\n",
              " 'turn',\n",
              " 'the',\n",
              " 'music',\n",
              " 'up',\n",
              " 'I',\n",
              " 'm',\n",
              " 'on',\n",
              " 'a',\n",
              " 'roll',\n",
              " 'this',\n",
              " 'time',\n",
              " 'And',\n",
              " 'heaven',\n",
              " 'is',\n",
              " 'in',\n",
              " 'sight',\n",
              " 'I',\n",
              " 'turn',\n",
              " 'the',\n",
              " 'music',\n",
              " 'up',\n",
              " 'I',\n",
              " 'got',\n",
              " 'my',\n",
              " 'records',\n",
              " 'on',\n",
              " 'From',\n",
              " 'underneath',\n",
              " 'the',\n",
              " 'rubble',\n",
              " 'sing',\n",
              " 'a',\n",
              " 'rebel',\n",
              " 'song',\n",
              " 'Don',\n",
              " 't',\n",
              " 'want',\n",
              " 'to',\n",
              " 'see',\n",
              " 'another',\n",
              " 'generation',\n",
              " 'drop',\n",
              " 'I',\n",
              " 'd',\n",
              " 'rather',\n",
              " 'be',\n",
              " 'a',\n",
              " 'comma',\n",
              " 'than',\n",
              " 'a',\n",
              " 'full',\n",
              " 'stop',\n",
              " 'Maybe',\n",
              " 'I',\n",
              " 'm',\n",
              " 'in',\n",
              " 'the',\n",
              " 'black',\n",
              " 'maybe',\n",
              " 'I',\n",
              " 'm',\n",
              " 'on',\n",
              " 'my',\n",
              " 'knees',\n",
              " 'Maybe',\n",
              " 'I',\n",
              " 'm',\n",
              " 'in',\n",
              " 'the',\n",
              " 'gap',\n",
              " 'between',\n",
              " 'the',\n",
              " 'two',\n",
              " 'trapezes',\n",
              " 'But',\n",
              " 'my',\n",
              " 'heart',\n",
              " 'is',\n",
              " 'beating',\n",
              " 'and',\n",
              " 'my',\n",
              " 'pulses',\n",
              " 'start',\n",
              " 'Cathedrals',\n",
              " 'in',\n",
              " 'my',\n",
              " 'heart',\n",
              " 'As',\n",
              " 'we',\n",
              " 'saw',\n",
              " 'oh',\n",
              " 'this',\n",
              " 'light',\n",
              " 'I',\n",
              " 'swear',\n",
              " 'you',\n",
              " 'emerge',\n",
              " 'blinking',\n",
              " 'into',\n",
              " 'To',\n",
              " 'tell',\n",
              " 'me',\n",
              " 'it',\n",
              " 's',\n",
              " 'alright',\n",
              " 'As',\n",
              " 'we',\n",
              " 'soar',\n",
              " 'walls',\n",
              " 'every',\n",
              " 'siren',\n",
              " 'is',\n",
              " 'a',\n",
              " 'symphony',\n",
              " 'And',\n",
              " 'every',\n",
              " 'tear',\n",
              " 's',\n",
              " 'a',\n",
              " 'waterfall',\n",
              " 'Is',\n",
              " 'a',\n",
              " 'waterfall',\n",
              " 'Oh',\n",
              " 'Is',\n",
              " 'a',\n",
              " 'waterfall',\n",
              " 'Oh',\n",
              " 'oh',\n",
              " 'oh',\n",
              " 'Is',\n",
              " 'a',\n",
              " 'is',\n",
              " 'a',\n",
              " 'waterfall',\n",
              " 'Every',\n",
              " 'tear',\n",
              " 'Is',\n",
              " 'a',\n",
              " 'waterfall',\n",
              " 'Oh',\n",
              " 'oh',\n",
              " 'oh',\n",
              " 'So',\n",
              " 'you',\n",
              " 'can',\n",
              " 'hurt',\n",
              " 'hurt',\n",
              " 'me',\n",
              " 'bad',\n",
              " 'But',\n",
              " 'still',\n",
              " 'I',\n",
              " 'll',\n",
              " 'raise',\n",
              " 'the',\n",
              " 'flag',\n",
              " 'Oh',\n",
              " 'It',\n",
              " 'was',\n",
              " 'a',\n",
              " 'wa',\n",
              " 'wa',\n",
              " 'wa',\n",
              " 'wa',\n",
              " 'wa',\n",
              " 'aterfall',\n",
              " 'A',\n",
              " 'wa',\n",
              " 'wa',\n",
              " 'wa',\n",
              " 'wa',\n",
              " 'wa',\n",
              " 'aterfall',\n",
              " 'Every',\n",
              " 'tear',\n",
              " 'Every',\n",
              " 'tear',\n",
              " 'Every',\n",
              " 'teardrop',\n",
              " 'is',\n",
              " 'a',\n",
              " 'waterfall',\n",
              " 'Every',\n",
              " 'tear',\n",
              " 'Every',\n",
              " 'tear',\n",
              " 'Every',\n",
              " 'teardrop',\n",
              " 'is',\n",
              " 'a',\n",
              " 'waterfall',\n",
              " 'Every',\n",
              " 'tear',\n",
              " 'Every',\n",
              " 'tear',\n",
              " 'Every',\n",
              " 'teardrop',\n",
              " 'is',\n",
              " 'a',\n",
              " 'waterfall']"
            ]
          },
          "metadata": {},
          "execution_count": 6
        }
      ],
      "source": [
        "# TODO: Remove the punctuation, then save the result into a variable and print it\n",
        "from nltk.tokenize import RegexpTokenizer\n",
        "toker = RegexpTokenizer(r'\\w+')\n",
        "toker_lyrics_no_punc = toker.tokenize(song)\n",
        "toker_lyrics_no_punc"
      ]
    },
    {
      "cell_type": "markdown",
      "metadata": {
        "id": "CPjIrSjRWN9U"
      },
      "source": [
        "We will now remove the stop words."
      ]
    },
    {
      "cell_type": "code",
      "execution_count": 9,
      "metadata": {
        "colab": {
          "base_uri": "https://localhost:8080/"
        },
        "id": "zRTQSEbHWN9V",
        "outputId": "acfe202d-5bb9-4498-9669-5760fa652508"
      },
      "outputs": [
        {
          "output_type": "stream",
          "name": "stdout",
          "text": [
            "[nltk_data] Downloading package stopwords to /root/nltk_data...\n",
            "[nltk_data]   Package stopwords is already up-to-date!\n",
            "['I', 'turn', 'music', 'I', 'got', 'records', 'I', 'shut', 'world', 'outside', 'lights', 'Maybe', 'streets', 'alight', 'maybe', 'trees', 'gone', 'I', 'feel', 'heart', 'start', 'beating', 'favourite', 'song', 'And', 'kids', 'dance', 'kids', 'night', 'Until', 'Monday', 'morning', 'feels', 'another', 'life', 'I', 'turn', 'music', 'I', 'roll', 'time', 'And', 'heaven', 'sight', 'I', 'turn', 'music', 'I', 'got', 'records', 'From', 'underneath', 'rubble', 'sing', 'rebel', 'song', 'Don', 'see', 'another', 'generation', 'drop', 'I', 'rather', 'comma', 'full', 'stop', 'Maybe', 'I', 'black', 'maybe', 'I', 'knees', 'Maybe', 'I', 'gap', 'two', 'trapezes', 'But', 'heart', 'beating', 'pulses', 'start', 'Cathedrals', 'heart', 'As', 'saw', 'oh', 'light', 'I', 'swear', 'emerge', 'blinking', 'To', 'tell', 'alright', 'As', 'soar', 'walls', 'every', 'siren', 'symphony', 'And', 'every', 'tear', 'waterfall', 'Is', 'waterfall', 'Oh', 'Is', 'waterfall', 'Oh', 'oh', 'oh', 'Is', 'waterfall', 'Every', 'tear', 'Is', 'waterfall', 'Oh', 'oh', 'oh', 'So', 'hurt', 'hurt', 'bad', 'But', 'still', 'I', 'raise', 'flag', 'Oh', 'It', 'wa', 'wa', 'wa', 'wa', 'wa', 'aterfall', 'A', 'wa', 'wa', 'wa', 'wa', 'wa', 'aterfall', 'Every', 'tear', 'Every', 'tear', 'Every', 'teardrop', 'waterfall', 'Every', 'tear', 'Every', 'tear', 'Every', 'teardrop', 'waterfall', 'Every', 'tear', 'Every', 'tear', 'Every', 'teardrop', 'waterfall']\n"
          ]
        }
      ],
      "source": [
        "# TODO: remove the stop words using NLTK. Then put the result into a variable and print it\n",
        "from nltk.corpus import stopwords\n",
        "nltk.download('stopwords')\n",
        "\n",
        "tokens_without_sw = [word for word in toker_lyrics_no_punc if not word in stopwords.words()]\n",
        "print(tokens_without_sw)"
      ]
    },
    {
      "cell_type": "markdown",
      "metadata": {
        "id": "YpvMj_sjWN9V"
      },
      "source": [
        "Okay we begin to have much less words in our song, right?\n",
        "\n",
        "Next step is lemmatization. But we had an issue in the lectures, you remember? Let's learn how to do it properly now.\n",
        "\n",
        "First let's try to do it naively. Import the WordNetLemmatizer and perform lemmatization with default options."
      ]
    },
    {
      "cell_type": "code",
      "execution_count": 11,
      "metadata": {
        "id": "GtnPk7OpWN9V",
        "outputId": "fa57b20b-ea53-4b1f-f30c-494d47260063",
        "colab": {
          "base_uri": "https://localhost:8080/"
        }
      },
      "outputs": [
        {
          "output_type": "stream",
          "name": "stdout",
          "text": [
            "['I', 'turn', 'music', 'I', 'got', 'record', 'I', 'shut', 'world', 'outside', 'light', 'Maybe', 'street', 'alight', 'maybe', 'tree', 'gone', 'I', 'feel', 'heart', 'start', 'beating', 'favourite', 'song', 'And', 'kid', 'dance', 'kid', 'night', 'Until', 'Monday', 'morning', 'feel', 'another', 'life', 'I', 'turn', 'music', 'I', 'roll', 'time', 'And', 'heaven', 'sight', 'I', 'turn', 'music', 'I', 'got', 'record', 'From', 'underneath', 'rubble', 'sing', 'rebel', 'song', 'Don', 'see', 'another', 'generation', 'drop', 'I', 'rather', 'comma', 'full', 'stop', 'Maybe', 'I', 'black', 'maybe', 'I', 'knee', 'Maybe', 'I', 'gap', 'two', 'trapeze', 'But', 'heart', 'beating', 'pulse', 'start', 'Cathedrals', 'heart', 'As', 'saw', 'oh', 'light', 'I', 'swear', 'emerge', 'blinking', 'To', 'tell', 'alright', 'As', 'soar', 'wall', 'every', 'siren', 'symphony', 'And', 'every', 'tear', 'waterfall', 'Is', 'waterfall', 'Oh', 'Is', 'waterfall', 'Oh', 'oh', 'oh', 'Is', 'waterfall', 'Every', 'tear', 'Is', 'waterfall', 'Oh', 'oh', 'oh', 'So', 'hurt', 'hurt', 'bad', 'But', 'still', 'I', 'raise', 'flag', 'Oh', 'It', 'wa', 'wa', 'wa', 'wa', 'wa', 'aterfall', 'A', 'wa', 'wa', 'wa', 'wa', 'wa', 'aterfall', 'Every', 'tear', 'Every', 'tear', 'Every', 'teardrop', 'waterfall', 'Every', 'tear', 'Every', 'tear', 'Every', 'teardrop', 'waterfall', 'Every', 'tear', 'Every', 'tear', 'Every', 'teardrop', 'waterfall']\n"
          ]
        }
      ],
      "source": [
        "# TODO: Perform lemmatization using WordNetLemmatizer on our tokens\n",
        "from nltk.stem import WordNetLemmatizer\n",
        "wnl = WordNetLemmatizer()\n",
        "tokenized_lemmatize = [wnl.lemmatize(token) for token in tokens_without_sw]\n",
        "print(tokenized_lemmatize)"
      ]
    },
    {
      "cell_type": "markdown",
      "metadata": {
        "id": "pl4Q94jeWN9V"
      },
      "source": [
        "As you can see, it worked well on nouns (plural words are now singular for example).\n",
        "\n",
        "But verbs are not OK: we would 'is' to become 'be' for example.\n",
        "\n",
        "To do that, we need to do POS-tagging. So let's do this now."
      ]
    },
    {
      "cell_type": "markdown",
      "metadata": {
        "id": "oBbSuOzkWN9V"
      },
      "source": [
        "POS-tagging means Part of speech tagging: basically it will classify words into categories: like verbs, nouns, advers and so on...\n",
        "\n",
        "In order to do that, we will use NLTK and the function *pos_tag*. You have to do it on the step before lemmatization, so use your variable containing all the tokens without punctuation and without stop words.\n",
        "\n",
        "Hint: you can check on the internet how the *pos_tag* function works [here](https://www.nltk.org/book/ch05.html)"
      ]
    },
    {
      "cell_type": "code",
      "execution_count": 12,
      "metadata": {
        "id": "vyHA2gPHWN9W",
        "outputId": "c7a01d5c-a4c9-42fb-d8a3-08d50032f3c8",
        "colab": {
          "base_uri": "https://localhost:8080/"
        }
      },
      "outputs": [
        {
          "output_type": "execute_result",
          "data": {
            "text/plain": [
              "[('I', 'PRP'),\n",
              " ('turn', 'VBP'),\n",
              " ('music', 'NN'),\n",
              " ('I', 'PRP'),\n",
              " ('got', 'VBD'),\n",
              " ('records', 'NNS'),\n",
              " ('I', 'PRP'),\n",
              " ('shut', 'VBP'),\n",
              " ('world', 'NN'),\n",
              " ('outside', 'IN'),\n",
              " ('lights', 'NNS'),\n",
              " ('Maybe', 'NNP'),\n",
              " ('streets', 'NNS'),\n",
              " ('alight', 'VBD'),\n",
              " ('maybe', 'RB'),\n",
              " ('trees', 'VBZ'),\n",
              " ('gone', 'VBN'),\n",
              " ('I', 'PRP'),\n",
              " ('feel', 'VBP'),\n",
              " ('heart', 'NN'),\n",
              " ('start', 'NN'),\n",
              " ('beating', 'VBG'),\n",
              " ('favourite', 'NN'),\n",
              " ('song', 'NN'),\n",
              " ('And', 'CC'),\n",
              " ('kids', 'NNS'),\n",
              " ('dance', 'NN'),\n",
              " ('kids', 'NNS'),\n",
              " ('night', 'NN'),\n",
              " ('Until', 'IN'),\n",
              " ('Monday', 'NNP'),\n",
              " ('morning', 'NN'),\n",
              " ('feels', 'NNS'),\n",
              " ('another', 'DT'),\n",
              " ('life', 'NN'),\n",
              " ('I', 'PRP'),\n",
              " ('turn', 'VBP'),\n",
              " ('music', 'NN'),\n",
              " ('I', 'PRP'),\n",
              " ('roll', 'VBP'),\n",
              " ('time', 'NN'),\n",
              " ('And', 'CC'),\n",
              " ('heaven', 'JJ'),\n",
              " ('sight', 'NN'),\n",
              " ('I', 'PRP'),\n",
              " ('turn', 'VBP'),\n",
              " ('music', 'NN'),\n",
              " ('I', 'PRP'),\n",
              " ('got', 'VBD'),\n",
              " ('records', 'NNS'),\n",
              " ('From', 'IN'),\n",
              " ('underneath', 'JJ'),\n",
              " ('rubble', 'JJ'),\n",
              " ('sing', 'VBG'),\n",
              " ('rebel', 'NN'),\n",
              " ('song', 'NN'),\n",
              " ('Don', 'NNP'),\n",
              " ('see', 'NN'),\n",
              " ('another', 'DT'),\n",
              " ('generation', 'NN'),\n",
              " ('drop', 'NN'),\n",
              " ('I', 'PRP'),\n",
              " ('rather', 'RB'),\n",
              " ('comma', 'VBP'),\n",
              " ('full', 'JJ'),\n",
              " ('stop', 'NN'),\n",
              " ('Maybe', 'NNP'),\n",
              " ('I', 'PRP'),\n",
              " ('black', 'JJ'),\n",
              " ('maybe', 'RB'),\n",
              " ('I', 'PRP'),\n",
              " ('knees', 'VBP'),\n",
              " ('Maybe', 'RB'),\n",
              " ('I', 'PRP'),\n",
              " ('gap', 'VBP'),\n",
              " ('two', 'CD'),\n",
              " ('trapezes', 'NNS'),\n",
              " ('But', 'CC'),\n",
              " ('heart', 'NN'),\n",
              " ('beating', 'NN'),\n",
              " ('pulses', 'NNS'),\n",
              " ('start', 'VBP'),\n",
              " ('Cathedrals', 'NNP'),\n",
              " ('heart', 'NN'),\n",
              " ('As', 'IN'),\n",
              " ('saw', 'JJ'),\n",
              " ('oh', 'IN'),\n",
              " ('light', 'JJ'),\n",
              " ('I', 'PRP'),\n",
              " ('swear', 'VBP'),\n",
              " ('emerge', 'RB'),\n",
              " ('blinking', 'VBG'),\n",
              " ('To', 'TO'),\n",
              " ('tell', 'VB'),\n",
              " ('alright', 'RB'),\n",
              " ('As', 'IN'),\n",
              " ('soar', 'NN'),\n",
              " ('walls', 'NNS'),\n",
              " ('every', 'DT'),\n",
              " ('siren', 'NN'),\n",
              " ('symphony', 'NN'),\n",
              " ('And', 'CC'),\n",
              " ('every', 'DT'),\n",
              " ('tear', 'NN'),\n",
              " ('waterfall', 'NN'),\n",
              " ('Is', 'VBZ'),\n",
              " ('waterfall', 'JJ'),\n",
              " ('Oh', 'NNP'),\n",
              " ('Is', 'NNP'),\n",
              " ('waterfall', 'JJ'),\n",
              " ('Oh', 'NNP'),\n",
              " ('oh', 'MD'),\n",
              " ('oh', 'VB'),\n",
              " ('Is', 'NNP'),\n",
              " ('waterfall', 'JJ'),\n",
              " ('Every', 'NNP'),\n",
              " ('tear', 'NN'),\n",
              " ('Is', 'VBZ'),\n",
              " ('waterfall', 'JJ'),\n",
              " ('Oh', 'NNP'),\n",
              " ('oh', 'MD'),\n",
              " ('oh', 'VB'),\n",
              " ('So', 'NNP'),\n",
              " ('hurt', 'JJ'),\n",
              " ('hurt', 'NN'),\n",
              " ('bad', 'JJ'),\n",
              " ('But', 'CC'),\n",
              " ('still', 'RB'),\n",
              " ('I', 'PRP'),\n",
              " ('raise', 'VBP'),\n",
              " ('flag', 'JJ'),\n",
              " ('Oh', 'IN'),\n",
              " ('It', 'PRP'),\n",
              " ('wa', 'VBZ'),\n",
              " ('wa', 'JJ'),\n",
              " ('wa', 'NN'),\n",
              " ('wa', 'NN'),\n",
              " ('wa', 'VBP'),\n",
              " ('aterfall', 'PDT'),\n",
              " ('A', 'NNP'),\n",
              " ('wa', 'NN'),\n",
              " ('wa', 'NN'),\n",
              " ('wa', 'NN'),\n",
              " ('wa', 'NN'),\n",
              " ('wa', 'VBP'),\n",
              " ('aterfall', 'DT'),\n",
              " ('Every', 'NNP'),\n",
              " ('tear', 'NN'),\n",
              " ('Every', 'NNP'),\n",
              " ('tear', 'NN'),\n",
              " ('Every', 'NNP'),\n",
              " ('teardrop', 'NN'),\n",
              " ('waterfall', 'NN'),\n",
              " ('Every', 'NNP'),\n",
              " ('tear', 'NN'),\n",
              " ('Every', 'NNP'),\n",
              " ('tear', 'NN'),\n",
              " ('Every', 'NNP'),\n",
              " ('teardrop', 'NN'),\n",
              " ('waterfall', 'NN'),\n",
              " ('Every', 'NNP'),\n",
              " ('tear', 'NN'),\n",
              " ('Every', 'NNP'),\n",
              " ('tear', 'NN'),\n",
              " ('Every', 'NNP'),\n",
              " ('teardrop', 'NN'),\n",
              " ('waterfall', 'NN')]"
            ]
          },
          "metadata": {},
          "execution_count": 12
        }
      ],
      "source": [
        "# TODO: use the function pos_tag of NLTK to perform POS-tagging and print the result\n",
        "tags = nltk.pos_tag(tokens_without_sw)\n",
        "tags"
      ]
    },
    {
      "cell_type": "markdown",
      "metadata": {
        "id": "QUO-JyqQWN9W"
      },
      "source": [
        "As you can see, it does not return values like 'a', 'n', 'v' or 'r' as the WordNet lemmatizer is expecting...\n",
        "\n",
        "So we have to convert the values from the NLTK POS-tagging to put them into the WordNet Lemmatizer. This is done in the function *get_wordnet_pos* written below. Try to understand it, and then we will reuse it."
      ]
    },
    {
      "cell_type": "code",
      "execution_count": 13,
      "metadata": {
        "id": "K0ih-GWJWN9W"
      },
      "outputs": [],
      "source": [
        "from nltk.corpus import wordnet\n",
        "\n",
        "def get_wordnet_pos(pos_tag):\n",
        "    output = np.asarray(pos_tag)\n",
        "    for i in range(len(pos_tag)):\n",
        "        if pos_tag[i][1].startswith('J'):\n",
        "            output[i][1] = wordnet.ADJ\n",
        "        elif pos_tag[i][1].startswith('V'):\n",
        "            output[i][1] = wordnet.VERB\n",
        "        elif pos_tag[i][1].startswith('R'):\n",
        "            output[i][1] = wordnet.ADV\n",
        "        else:\n",
        "            output[i][1] = wordnet.NOUN\n",
        "    return output"
      ]
    },
    {
      "cell_type": "markdown",
      "metadata": {
        "id": "fcJgWetMWN9W"
      },
      "source": [
        "So now you have all we need to perform properly the lemmatization.\n",
        "\n",
        "So you have to use the following to do so:\n",
        "* your tags from the POS-tagging performed\n",
        "* the function *get_wordnet_pos*\n",
        "* the *WordNetLemmatizer*"
      ]
    },
    {
      "cell_type": "code",
      "execution_count": 14,
      "metadata": {
        "scrolled": true,
        "id": "cQb6Nk31WN9W",
        "outputId": "a1934fd2-743d-4c71-b2d7-6364060d0c61",
        "colab": {
          "base_uri": "https://localhost:8080/"
        }
      },
      "outputs": [
        {
          "output_type": "stream",
          "name": "stdout",
          "text": [
            "['I', 'turn', 'music', 'I', 'get', 'record', 'I', 'shut', 'world', 'outside', 'light', 'Maybe', 'street', 'alight', 'maybe', 'tree', 'go', 'I', 'feel', 'heart', 'start', 'beat', 'favourite', 'song', 'And', 'kid', 'dance', 'kid', 'night', 'Until', 'Monday', 'morning', 'feel', 'another', 'life', 'I', 'turn', 'music', 'I', 'roll', 'time', 'And', 'heaven', 'sight', 'I', 'turn', 'music', 'I', 'get', 'record', 'From', 'underneath', 'rubble', 'sing', 'rebel', 'song', 'Don', 'see', 'another', 'generation', 'drop', 'I', 'rather', 'comma', 'full', 'stop', 'Maybe', 'I', 'black', 'maybe', 'I', 'knees', 'Maybe', 'I', 'gap', 'two', 'trapeze', 'But', 'heart', 'beating', 'pulse', 'start', 'Cathedrals', 'heart', 'As', 'saw', 'oh', 'light', 'I', 'swear', 'emerge', 'blink', 'To', 'tell', 'alright', 'As', 'soar', 'wall', 'every', 'siren', 'symphony', 'And', 'every', 'tear', 'waterfall', 'Is', 'waterfall', 'Oh', 'Is', 'waterfall', 'Oh', 'oh', 'oh', 'Is', 'waterfall', 'Every', 'tear', 'Is', 'waterfall', 'Oh', 'oh', 'oh', 'So', 'hurt', 'hurt', 'bad', 'But', 'still', 'I', 'raise', 'flag', 'Oh', 'It', 'wa', 'wa', 'wa', 'wa', 'wa', 'aterfall', 'A', 'wa', 'wa', 'wa', 'wa', 'wa', 'aterfall', 'Every', 'tear', 'Every', 'tear', 'Every', 'teardrop', 'waterfall', 'Every', 'tear', 'Every', 'tear', 'Every', 'teardrop', 'waterfall', 'Every', 'tear', 'Every', 'tear', 'Every', 'teardrop', 'waterfall']\n"
          ]
        }
      ],
      "source": [
        "from nltk.stem import WordNetLemmatizer\n",
        "\n",
        "# TODO: Perform the lemmatization properly\n",
        "tags = get_wordnet_pos(tags)\n",
        "# TODO: Perform lemmatization using WordNetLemmatizer on our tokens\n",
        "\n",
        "wnl = WordNetLemmatizer()\n",
        "tokenized_lemmatize = [wnl.lemmatize(token,pos) for token,pos in tags]\n",
        "print(tokenized_lemmatize)"
      ]
    },
    {
      "cell_type": "markdown",
      "metadata": {
        "id": "1nMNc-e0WN9W"
      },
      "source": [
        "What do you think?\n",
        "\n",
        "Still not perfect, but it's the best we can do for now."
      ]
    },
    {
      "cell_type": "markdown",
      "metadata": {
        "id": "N1Pp6qKGWN9X"
      },
      "source": [
        "Now you can try stemming, with the help of the lecture, and see the differences compared to the lemmatization"
      ]
    },
    {
      "cell_type": "code",
      "execution_count": 17,
      "metadata": {
        "id": "tseQyN4mWN9X",
        "outputId": "4ac58c0d-1a22-4b0b-d332-15f21bfe66b8",
        "colab": {
          "base_uri": "https://localhost:8080/"
        }
      },
      "outputs": [
        {
          "output_type": "stream",
          "name": "stdout",
          "text": [
            "['I', 'turn', 'music', 'I', 'got', 'record', 'I', 'shut', 'world', 'outsid', 'light', 'mayb', 'street', 'alight', 'mayb', 'tree', 'gone', 'I', 'feel', 'heart', 'start', 'beat', 'favourit', 'song', 'and', 'kid', 'danc', 'kid', 'night', 'until', 'monday', 'morn', 'feel', 'anoth', 'life', 'I', 'turn', 'music', 'I', 'roll', 'time', 'and', 'heaven', 'sight', 'I', 'turn', 'music', 'I', 'got', 'record', 'from', 'underneath', 'rubbl', 'sing', 'rebel', 'song', 'don', 'see', 'anoth', 'gener', 'drop', 'I', 'rather', 'comma', 'full', 'stop', 'mayb', 'I', 'black', 'mayb', 'I', 'knee', 'mayb', 'I', 'gap', 'two', 'trapez', 'but', 'heart', 'beat', 'puls', 'start', 'cathedr', 'heart', 'As', 'saw', 'oh', 'light', 'I', 'swear', 'emerg', 'blink', 'To', 'tell', 'alright', 'As', 'soar', 'wall', 'everi', 'siren', 'symphoni', 'and', 'everi', 'tear', 'waterfal', 'Is', 'waterfal', 'Oh', 'Is', 'waterfal', 'Oh', 'oh', 'oh', 'Is', 'waterfal', 'everi', 'tear', 'Is', 'waterfal', 'Oh', 'oh', 'oh', 'So', 'hurt', 'hurt', 'bad', 'but', 'still', 'I', 'rais', 'flag', 'Oh', 'It', 'wa', 'wa', 'wa', 'wa', 'wa', 'aterfal', 'A', 'wa', 'wa', 'wa', 'wa', 'wa', 'aterfal', 'everi', 'tear', 'everi', 'tear', 'everi', 'teardrop', 'waterfal', 'everi', 'tear', 'everi', 'tear', 'everi', 'teardrop', 'waterfal', 'everi', 'tear', 'everi', 'tear', 'everi', 'teardrop', 'waterfal']\n"
          ]
        }
      ],
      "source": [
        "# TODO: Perform stemming\n",
        "from nltk.stem import PorterStemmer\n",
        "\n",
        "stemmer = PorterStemmer()\n",
        "stemmed_tokenz = [stemmer.stem(token) for token in tokens_without_sw]\n",
        "print(stemmed_tokenz)"
      ]
    },
    {
      "cell_type": "markdown",
      "metadata": {
        "id": "cPJh1ZCJWN9X"
      },
      "source": [
        "Do you see the difference? What would you use?"
      ]
    },
    {
      "cell_type": "markdown",
      "source": [
        "- Stemming takes the shortest part of the words and represent the different variations of the word.\n",
        "- Lemmaitization uses the context in the word which is being used .\n",
        "- Lemmatization is one of the best and standard method while stemming is still valid.\n",
        "- Both methods trys to analyse the meaning of the word.\n",
        "\n",
        "* Lemmatization is prefered method."
      ],
      "metadata": {
        "id": "_WwesZkg5RGN"
      }
    }
  ],
  "metadata": {
    "kernelspec": {
      "display_name": "Python 3 (ipykernel)",
      "language": "python",
      "name": "python3"
    },
    "language_info": {
      "codemirror_mode": {
        "name": "ipython",
        "version": 3
      },
      "file_extension": ".py",
      "mimetype": "text/x-python",
      "name": "python",
      "nbconvert_exporter": "python",
      "pygments_lexer": "ipython3",
      "version": "3.9.7"
    },
    "toc": {
      "base_numbering": 1,
      "nav_menu": {},
      "number_sections": true,
      "sideBar": true,
      "skip_h1_title": false,
      "title_cell": "Table of Contents",
      "title_sidebar": "Contents",
      "toc_cell": false,
      "toc_position": {},
      "toc_section_display": true,
      "toc_window_display": false
    },
    "colab": {
      "name": "Preprocessing(1).ipynb",
      "provenance": [],
      "collapsed_sections": [],
      "include_colab_link": true
    }
  },
  "nbformat": 4,
  "nbformat_minor": 0
}