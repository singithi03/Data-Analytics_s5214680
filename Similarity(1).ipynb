{
  "cells": [
    {
      "cell_type": "markdown",
      "metadata": {
        "id": "view-in-github",
        "colab_type": "text"
      },
      "source": [
        "<a href=\"https://colab.research.google.com/github/singithi03/Data-Analytics_s5214680/blob/Lab---5/Similarity(1).ipynb\" target=\"_parent\"><img src=\"https://colab.research.google.com/assets/colab-badge.svg\" alt=\"Open In Colab\"/></a>"
      ]
    },
    {
      "cell_type": "markdown",
      "metadata": {
        "id": "sRZvERvzNerU"
      },
      "source": [
        "# Similarity"
      ]
    },
    {
      "cell_type": "markdown",
      "metadata": {
        "id": "PxEP_PqYNerX"
      },
      "source": [
        "We will work on applying similarity: Jaccard and Cosine similarity. This exercise is a simple application of the lecture."
      ]
    },
    {
      "cell_type": "markdown",
      "metadata": {
        "id": "eMn2FGPpNerX"
      },
      "source": [
        "Begin by importing the needed libraries:"
      ]
    },
    {
      "cell_type": "code",
      "execution_count": 1,
      "metadata": {
        "id": "pj53Cz6tNerX"
      },
      "outputs": [],
      "source": [
        "# import needed libraries\n",
        "import nltk\n",
        "import numpy as np\n",
        "import pandas as pd"
      ]
    },
    {
      "cell_type": "markdown",
      "metadata": {
        "id": "BoVxIqSjNerY"
      },
      "source": [
        "We will work with the following examples:"
      ]
    },
    {
      "cell_type": "code",
      "execution_count": 4,
      "metadata": {
        "id": "5W97K7zqNerY"
      },
      "outputs": [],
      "source": [
        "A = \"Outside the classroom, Stallman pursued his studies with even more diligence, rushing off to fulfill his laboratory-assistant duties at Rockefeller University during the week and dodging the Vietnam protesters on his way to Saturday school at Columbia. It was there, while the rest of the Science Honors Program students sat around discussing their college choices, that Stallman finally took a moment to participate in the preclass bull session.\"\n",
        "B = \"To facilitate the process, AI Lab hackers had built a system that displayed both the source and display modes on a split screen. Despite this innovative hack, switching from mode to mode was still a nuisance.\"\n",
        "C = \"With no dorm and no dancing, Stallman's social universe imploded. Like an astronaut experiencing the aftereffects of zero-gravity, Stallman found that his ability to interact with nonhackers, especially female nonhackers, had atrophied significantly. After 16 weeks in the AI Lab, the self confidence he'd been quietly accumulating during his 4 years at Harvard was virtually gone.\""
      ]
    },
    {
      "cell_type": "markdown",
      "metadata": {
        "id": "BdHT_QQMNerZ"
      },
      "source": [
        "Begin by computing the Jaccard Similarity J of all possibilities:\n",
        "* J(A, B)\n",
        "* J(B, C)\n",
        "* J(A, C)"
      ]
    },
    {
      "cell_type": "code",
      "execution_count": 5,
      "metadata": {
        "colab": {
          "base_uri": "https://localhost:8080/"
        },
        "id": "SAAAYPTdNerZ",
        "outputId": "37839184-03c2-4e37-a787-6a456f96d7fb"
      },
      "outputs": [
        {
          "output_type": "stream",
          "name": "stdout",
          "text": [
            "Jaccard Similarity AB:  0.08536585365853659\n",
            "Jaccard Similarity BC:  0.09210526315789473\n",
            "Jaccard Similarity AC:  0.125\n"
          ]
        }
      ],
      "source": [
        "# TODO: compute the Jaccard similarities\n",
        "# Split the sentences\n",
        "a = set(A.split())\n",
        "b = set(B.split())\n",
        "c = set(C.split())\n",
        "# Compute the intersection and union\n",
        "intersectionAB = a.intersection(b)\n",
        "intersectionBC = b.intersection(c)\n",
        "intersectionAC = a.intersection(c)\n",
        "\n",
        "unionAB = a.union(b)\n",
        "unionBC = b.union(c)\n",
        "unionAC = a.union(c)\n",
        "\n",
        "JAB = len(intersectionAB)/len(unionAB)\n",
        "JBC = len(intersectionBC)/len(unionBC)\n",
        "JAC = len(intersectionAC)/len(unionAC)\n",
        "\n",
        "# Compute and print the Jaccard Similarity\n",
        "print(\"Jaccard Similarity AB: \",JAB)\n",
        "print(\"Jaccard Similarity BC: \",JBC)\n",
        "print(\"Jaccard Similarity AC: \",JAC)"
      ]
    },
    {
      "cell_type": "markdown",
      "metadata": {
        "id": "q3iGmyk1Nera"
      },
      "source": [
        "What are the closest to the other according to Jaccard Similarity?\n",
        "\n",
        "Now let's do the same using TF-IDF and Cosine Similarity. Compute the TF-IDF and cosine similarities and print them."
      ]
    },
    {
      "cell_type": "code",
      "execution_count": 13,
      "metadata": {
        "scrolled": true,
        "colab": {
          "base_uri": "https://localhost:8080/",
          "height": 376
        },
        "id": "gmOaEUtBNera",
        "outputId": "6fd30f22-876e-49ec-bc8d-f24a5dff73fe"
      },
      "outputs": [
        {
          "output_type": "stream",
          "name": "stdout",
          "text": [
            "[[1.         0.1679327  0.2850296 ]\n",
            " [0.1679327  1.         0.13618963]\n",
            " [0.2850296  0.13618963 1.        ]]\n",
            "cos(A,B: 0.16793269576264072\n",
            "cos(B,C: 0.13618963113796587\n",
            "cos(A,C: 0.28502960323339077\n"
          ]
        },
        {
          "output_type": "display_data",
          "data": {
            "text/plain": [
              "<Figure size 432x288 with 2 Axes>"
            ],
            "image/png": "[encoded data removed]"
          },
          "metadata": {
            "needs_background": "light"
          }
        }
      ],
      "source": [
        "# TODO: compute the TF-IDF of A, B and C and the cosine similarities of all possibilities\n",
        "from sklearn.feature_extraction.text import TfidfVectorizer\n",
        "from sklearn.metrics.pairwise import cosine_similarity\n",
        "\n",
        "vectorizer = TfidfVectorizer()\n",
        "tf_idf = vectorizer.fit_transform([A,B,C]).toarray()\n",
        "\n",
        "sim = cosine_similarity(tf_idf, tf_idf)\n",
        "\n",
        "import seaborn as sns\n",
        "import matplotlib as plt\n",
        "sns.heatmap(sim, annot=True, xticklabels=['A','B','C'], yticklabels=['A','B','C'])\n",
        "print(sim)\n",
        "print(\"cos(A,B:\",sim[0][1])\n",
        "print(\"cos(B,C:\",sim[1][2])\n",
        "print(\"cos(A,C:\",sim[0][2])"
      ]
    },
    {
      "cell_type": "markdown",
      "metadata": {
        "id": "qn0_4lTANerb"
      },
      "source": [
        "Is it consistent with the Jaccard values?\n",
        "NO, There is differnet between values."
      ]
    }
  ],
  "metadata": {
    "kernelspec": {
      "display_name": "Python 3 (ipykernel)",
      "language": "python",
      "name": "python3"
    },
    "language_info": {
      "codemirror_mode": {
        "name": "ipython",
        "version": 3
      },
      "file_extension": ".py",
      "mimetype": "text/x-python",
      "name": "python",
      "nbconvert_exporter": "python",
      "pygments_lexer": "ipython3",
      "version": "3.9.7"
    },
    "toc": {
      "base_numbering": 1,
      "nav_menu": {},
      "number_sections": true,
      "sideBar": true,
      "skip_h1_title": false,
      "title_cell": "Table of Contents",
      "title_sidebar": "Contents",
      "toc_cell": false,
      "toc_position": {},
      "toc_section_display": true,
      "toc_window_display": false
    },
    "colab": {
      "name": "Similarity(1).ipynb",
      "provenance": [],
      "collapsed_sections": [],
      "include_colab_link": true
    }
  },
  "nbformat": 4,
  "nbformat_minor": 0
}