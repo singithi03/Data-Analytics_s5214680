{
  "cells": [
    {
      "cell_type": "markdown",
      "metadata": {
        "id": "view-in-github",
        "colab_type": "text"
      },
      "source": [
        "<a href=\"https://colab.research.google.com/github/singithi03/Data-Analytics_s5214680/blob/Lab-6/Spam_Classifier(1).ipynb\" target=\"_parent\"><img src=\"https://colab.research.google.com/assets/colab-badge.svg\" alt=\"Open In Colab\"/></a>"
      ]
    },
    {
      "cell_type": "markdown",
      "metadata": {
        "id": "c635kHc_NiG_"
      },
      "source": [
        "# 04-Spam-Classifier"
      ]
    },
    {
      "cell_type": "markdown",
      "metadata": {
        "id": "993bGErvNiHD"
      },
      "source": [
        "It's time to make our first real Machine Learning application of NLP: a spam classifier!"
      ]
    },
    {
      "cell_type": "markdown",
      "metadata": {
        "id": "NhkLrA_qNiHE"
      },
      "source": [
        "A spam classifier is a Machine Learning model that classifier texts (email or SMS) into two categories: Spam (1) or legitimate (0).\n",
        "\n",
        "To do that, we will reuse our knowledge: we will apply preprocessing and BOW (Bag Of Words) on a dataset of texts.\n",
        "Then we will use a classifier to predict to which class belong a new email/SMS, based on the BOW."
      ]
    },
    {
      "cell_type": "markdown",
      "metadata": {
        "id": "FnLIrMVJNiHE"
      },
      "source": [
        "First things first: import the needed libraries."
      ]
    },
    {
      "cell_type": "code",
      "execution_count": 86,
      "metadata": {
        "id": "GnjEsiBBNiHF"
      },
      "outputs": [],
      "source": [
        "# Import NLTK and all the needed libraries\n",
        "import nltk\n",
        "import numpy as np\n",
        "import pandas as pd\n",
        "from sklearn.feature_extraction.text import CountVectorizer"
      ]
    },
    {
      "cell_type": "markdown",
      "metadata": {
        "id": "aq2hyWcuNiHG"
      },
      "source": [
        "Load now the dataset in *spam.csv* using pandas. Use the 'latin-1' encoding as loading option."
      ]
    },
    {
      "cell_type": "code",
      "execution_count": 87,
      "metadata": {
        "colab": {
          "base_uri": "https://localhost:8080/",
          "height": 206
        },
        "id": "wZwZvO4mNiHH",
        "outputId": "daaef8a2-c736-42f3-cc45-8c3b2b465301"
      },
      "outputs": [
        {
          "output_type": "execute_result",
          "data": {
            "text/plain": [
              "  Class                                            Message\n",
              "0   ham  Go until jurong point, crazy.. Available only ...\n",
              "1   ham                      Ok lar... Joking wif u oni...\n",
              "2  spam  Free entry in 2 a wkly comp to win FA Cup fina...\n",
              "3   ham  U dun say so early hor... U c already then say...\n",
              "4   ham  Nah I don't think he goes to usf, he lives aro..."
            ],
            "text/html": [
              "\n",
              "  <div id=\"df-feb3b68b-25f5-4bb6-852e-67fafaec5d76\">\n",
              "    <div class=\"colab-df-container\">\n",
              "      <div>\n",
              "<style scoped>\n",
              "    .dataframe tbody tr th:only-of-type {\n",
              "        vertical-align: middle;\n",
              "    }\n",
              "\n",
              "    .dataframe tbody tr th {\n",
              "        vertical-align: top;\n",
              "    }\n",
              "\n",
              "    .dataframe thead th {\n",
              "        text-align: right;\n",
              "    }\n",
              "</style>\n",
              "<table border=\"1\" class=\"dataframe\">\n",
              "  <thead>\n",
              "    <tr style=\"text-align: right;\">\n",
              "      <th></th>\n",
              "      <th>Class</th>\n",
              "      <th>Message</th>\n",
              "    </tr>\n",
              "  </thead>\n",
              "  <tbody>\n",
              "    <tr>\n",
              "      <th>0</th>\n",
              "      <td>ham</td>\n",
              "      <td>Go until jurong point, crazy.. Available only ...</td>\n",
              "    </tr>\n",
              "    <tr>\n",
              "      <th>1</th>\n",
              "      <td>ham</td>\n",
              "      <td>Ok lar... Joking wif u oni...</td>\n",
              "    </tr>\n",
              "    <tr>\n",
              "      <th>2</th>\n",
              "      <td>spam</td>\n",
              "      <td>Free entry in 2 a wkly comp to win FA Cup fina...</td>\n",
              "    </tr>\n",
              "    <tr>\n",
              "      <th>3</th>\n",
              "      <td>ham</td>\n",
              "      <td>U dun say so early hor... U c already then say...</td>\n",
              "    </tr>\n",
              "    <tr>\n",
              "      <th>4</th>\n",
              "      <td>ham</td>\n",
              "      <td>Nah I don't think he goes to usf, he lives aro...</td>\n",
              "    </tr>\n",
              "  </tbody>\n",
              "</table>\n",
              "</div>\n",
              "      <button class=\"colab-df-convert\" onclick=\"convertToInteractive('df-feb3b68b-25f5-4bb6-852e-67fafaec5d76')\"\n",
              "              title=\"Convert this dataframe to an interactive table.\"\n",
              "              style=\"display:none;\">\n",
              "        \n",
              "  <svg xmlns=\"http://www.w3.org/2000/svg\" height=\"24px\"viewBox=\"0 0 24 24\"\n",
              "       width=\"24px\">\n",
              "    <path d=\"M0 0h24v24H0V0z\" fill=\"none\"/>\n",
              "    <path d=\"M18.56 5.44l.94 2.06.94-2.06 2.06-.94-2.06-.94-.94-2.06-.94 2.06-2.06.94zm-11 1L8.5 8.5l.94-2.06 2.06-.94-2.06-.94L8.5 2.5l-.94 2.06-2.06.94zm10 10l.94 2.06.94-2.06 2.06-.94-2.06-.94-.94-2.06-.94 2.06-2.06.94z\"/><path d=\"M17.41 7.96l-1.37-1.37c-.4-.4-.92-.59-1.43-.59-.52 0-1.04.2-1.43.59L10.3 9.45l-7.72 7.72c-.78.78-.78 2.05 0 2.83L4 21.41c.39.39.9.59 1.41.59.51 0 1.02-.2 1.41-.59l7.78-7.78 2.81-2.81c.8-.78.8-2.07 0-2.86zM5.41 20L4 18.59l7.72-7.72 1.47 1.35L5.41 20z\"/>\n",
              "  </svg>\n",
              "      </button>\n",
              "      \n",
              "  <style>\n",
              "    .colab-df-container {\n",
              "      display:flex;\n",
              "      flex-wrap:wrap;\n",
              "      gap: 12px;\n",
              "    }\n",
              "\n",
              "    .colab-df-convert {\n",
              "      background-color: #E8F0FE;\n",
              "      border: none;\n",
              "      border-radius: 50%;\n",
              "      cursor: pointer;\n",
              "      display: none;\n",
              "      fill: #1967D2;\n",
              "      height: 32px;\n",
              "      padding: 0 0 0 0;\n",
              "      width: 32px;\n",
              "    }\n",
              "\n",
              "    .colab-df-convert:hover {\n",
              "      background-color: #E2EBFA;\n",
              "      box-shadow: 0px 1px 2px rgba(60, 64, 67, 0.3), 0px 1px 3px 1px rgba(60, 64, 67, 0.15);\n",
              "      fill: #174EA6;\n",
              "    }\n",
              "\n",
              "    [theme=dark] .colab-df-convert {\n",
              "      background-color: #3B4455;\n",
              "      fill: #D2E3FC;\n",
              "    }\n",
              "\n",
              "    [theme=dark] .colab-df-convert:hover {\n",
              "      background-color: #434B5C;\n",
              "      box-shadow: 0px 1px 3px 1px rgba(0, 0, 0, 0.15);\n",
              "      filter: drop-shadow(0px 1px 2px rgba(0, 0, 0, 0.3));\n",
              "      fill: #FFFFFF;\n",
              "    }\n",
              "  </style>\n",
              "\n",
              "      <script>\n",
              "        const buttonEl =\n",
              "          document.querySelector('#df-feb3b68b-25f5-4bb6-852e-67fafaec5d76 button.colab-df-convert');\n",
              "        buttonEl.style.display =\n",
              "          google.colab.kernel.accessAllowed ? 'block' : 'none';\n",
              "\n",
              "        async function convertToInteractive(key) {\n",
              "          const element = document.querySelector('#df-feb3b68b-25f5-4bb6-852e-67fafaec5d76');\n",
              "          const dataTable =\n",
              "            await google.colab.kernel.invokeFunction('convertToInteractive',\n",
              "                                                     [key], {});\n",
              "          if (!dataTable) return;\n",
              "\n",
              "          const docLinkHtml = 'Like what you see? Visit the ' +\n",
              "            '<a target=\"_blank\" href=https://colab.research.google.com/notebooks/data_table.ipynb>data table notebook</a>'\n",
              "            + ' to learn more about interactive tables.';\n",
              "          element.innerHTML = '';\n",
              "          dataTable['output_type'] = 'display_data';\n",
              "          await google.colab.output.renderOutput(dataTable, element);\n",
              "          const docLink = document.createElement('div');\n",
              "          docLink.innerHTML = docLinkHtml;\n",
              "          element.appendChild(docLink);\n",
              "        }\n",
              "      </script>\n",
              "    </div>\n",
              "  </div>\n",
              "  "
            ]
          },
          "metadata": {},
          "execution_count": 87
        }
      ],
      "source": [
        "# TODO: Load the dataset \n",
        "df = pd.read_csv('spam.csv', encoding='latin-1')\n",
        "df.head()"
      ]
    },
    {
      "cell_type": "markdown",
      "metadata": {
        "id": "MIws0YhANiHI"
      },
      "source": [
        "As usual, I suggest you to explore a bit this dataset."
      ]
    },
    {
      "cell_type": "code",
      "execution_count": 88,
      "metadata": {
        "scrolled": false,
        "colab": {
          "base_uri": "https://localhost:8080/"
        },
        "id": "mpvFsTCxNiHJ",
        "outputId": "4c71afb4-5426-45af-ab8a-7e505edb3978"
      },
      "outputs": [
        {
          "output_type": "stream",
          "name": "stdout",
          "text": [
            "<class 'pandas.core.frame.DataFrame'>\n",
            "RangeIndex: 5572 entries, 0 to 5571\n",
            "Data columns (total 2 columns):\n",
            " #   Column   Non-Null Count  Dtype \n",
            "---  ------   --------------  ----- \n",
            " 0   Class    5572 non-null   object\n",
            " 1   Message  5572 non-null   object\n",
            "dtypes: object(2)\n",
            "memory usage: 87.2+ KB\n"
          ]
        }
      ],
      "source": [
        "# TODO: explore the dataset\n",
        "df.info()"
      ]
    },
    {
      "cell_type": "markdown",
      "metadata": {
        "id": "XpDYkdiJNiHJ"
      },
      "source": [
        "So as you see we have a column containing the labels, and a column containing the text to classify."
      ]
    },
    {
      "cell_type": "markdown",
      "metadata": {
        "id": "QHXrdHZ6NiHK"
      },
      "source": [
        "We will begin by doing the usual preprocessing: tokenization, punctuation removal and lemmatization."
      ]
    },
    {
      "cell_type": "code",
      "execution_count": 89,
      "metadata": {
        "colab": {
          "base_uri": "https://localhost:8080/"
        },
        "id": "QKSr5oppNiHK",
        "outputId": "d52284fa-419e-48b9-8d1c-684dc9975396"
      },
      "outputs": [
        {
          "output_type": "stream",
          "name": "stderr",
          "text": [
            "/usr/local/lib/python3.7/dist-packages/ipykernel_launcher.py:11: FutureWarning: The default value of regex will change from True to False in a future version.\n",
            "  # This is added back by InteractiveShellApp.init_path()\n"
          ]
        },
        {
          "output_type": "stream",
          "name": "stdout",
          "text": [
            "0       [GountiljurongpointcrazyAvailableonlyinbugisng...\n",
            "1                                    [OklarJokingwifuoni]\n",
            "2       [Freeentryin2awklycomptowinFACupfinaltkts21stM...\n",
            "3                     [UdunsaysoearlyhorUcalreadythensay]\n",
            "4       [NahIdontthinkhegoestousfhelivesaroundherethough]\n",
            "                              ...                        \n",
            "5567    [Thisisthe2ndtimewehavetried2contactuUhavewont...\n",
            "5568                        [Willbgoingtoesplanadefrhome]\n",
            "5569          [PitywasinmoodforthatSoanyothersuggestions]\n",
            "5570    [TheguydidsomebitchingbutIactedlikeidbeinteres...\n",
            "5571                               [RoflItstruetoitsname]\n",
            "Name: tokens, Length: 5572, dtype: object\n"
          ]
        }
      ],
      "source": [
        "# TODO: Perform preprocessing over all the text\n",
        "from nltk.tokenize import word_tokenize\n",
        "from nltk.stem import WordNetLemmatizer\n",
        "\n",
        "\n",
        "\n",
        "lemmatizer = WordNetLemmatizer()\n",
        "def lemmzie_text(text_array):\n",
        "  return [lemmatizer.lemmatize(word) for word in text_array]\n",
        "\n",
        "df['Message'] = df['Message'].str.replace('[^a-zA-Z0-9]', '')\n",
        "df['tokens'] = df['Message'].apply(word_tokenize)\n",
        "df['tokens'] = df['tokens'].apply(lemmzie_text)\n",
        "\n",
        "print(df['tokens'])\n"
      ]
    },
    {
      "cell_type": "markdown",
      "metadata": {
        "id": "6J_jowG5NiHL"
      },
      "source": [
        "Ok now we have our preprocessed data. Next step is to do a BOW."
      ]
    },
    {
      "cell_type": "code",
      "execution_count": 90,
      "metadata": {
        "id": "7oqWhPQTNiHL"
      },
      "outputs": [],
      "source": [
        "# TODO: compute the BOW\n",
        "from sklearn.feature_extraction.text import CountVectorizer\n",
        "\n",
        "df['tokens_joined'] = df['tokens'].apply(lambda row: ' '.join(row))\n",
        "vectorizer = CountVectorizer(stop_words='english')\n",
        "BOW = vectorizer.fit_transform(df['tokens_joined']).toarray()"
      ]
    },
    {
      "cell_type": "markdown",
      "metadata": {
        "id": "I6Qi6UcnNiHL"
      },
      "source": [
        "Then make a new dataframe as usual to have a visual idea of the words used and their frequencies."
      ]
    },
    {
      "cell_type": "code",
      "execution_count": 91,
      "metadata": {
        "colab": {
          "base_uri": "https://localhost:8080/",
          "height": 300
        },
        "id": "VGd4QeskNiHM",
        "outputId": "0e101947-0794-42dd-a3e4-8fc6f67c4a52"
      },
      "outputs": [
        {
          "output_type": "execute_result",
          "data": {
            "text/plain": [
              "   07732584351rodgerburnsmsgwetriedtocallyoureyourreplytooursmsforafreenokiamobilefreecamcorderpleasecallnow08000930705fordeliverytomorrow  \\\n",
              "0                                                  0                                                                                         \n",
              "1                                                  0                                                                                         \n",
              "2                                                  0                                                                                         \n",
              "3                                                  0                                                                                         \n",
              "4                                                  0                                                                                         \n",
              "\n",
              "   08714712388between10am7pmcost10p  \\\n",
              "0                                 0   \n",
              "1                                 0   \n",
              "2                                 0   \n",
              "3                                 0   \n",
              "4                                 0   \n",
              "\n",
              "   09066362231urgentyourmobileno07xxxxxxxxxwona2000bonuscallerprizeon020603thisisthe2ndattempttoreachyoucall09066362231asap  \\\n",
              "0                                                  0                                                                          \n",
              "1                                                  0                                                                          \n",
              "2                                                  0                                                                          \n",
              "3                                                  0                                                                          \n",
              "4                                                  0                                                                          \n",
              "\n",
              "   0anetworksallowcompaniestobillforsmssotheyareresponsiblefortheirsuppliersjustasashophastogiveaguaranteeonwhattheysellbg  \\\n",
              "0                                                  0                                                                         \n",
              "1                                                  0                                                                         \n",
              "2                                                  0                                                                         \n",
              "3                                                  0                                                                         \n",
              "4                                                  0                                                                         \n",
              "\n",
              "   1000sflirtingnowtxtgirlorblokeurnameageeggirlzoe18to8007tojoinandgetchatting  \\\n",
              "0                                                  0                              \n",
              "1                                                  0                              \n",
              "2                                                  0                              \n",
              "3                                                  0                              \n",
              "4                                                  0                              \n",
              "\n",
              "   1000sofgirlsmanylocal2uwhorvirgins2thisrready24filureverysexualneedcanu4filtheirstextcuteto69911150pm  \\\n",
              "0                                                  0                                                       \n",
              "1                                                  0                                                       \n",
              "2                                                  0                                                       \n",
              "3                                                  0                                                       \n",
              "4                                                  0                                                       \n",
              "\n",
              "   100datingservicecall09064012103box334sk38ch  10minlaterk  \\\n",
              "0                                            0            0   \n",
              "1                                            0            0   \n",
              "2                                            0            0   \n",
              "3                                            0            0   \n",
              "4                                            0            0   \n",
              "\n",
              "   120thatcallcostwhichiguessisntbadmissyaneedyawantyaloveya  \\\n",
              "0                                                  0           \n",
              "1                                                  0           \n",
              "2                                                  0           \n",
              "3                                                  0           \n",
              "4                                                  0           \n",
              "\n",
              "   123congratulationsinthisweekscompetitiondrawuhavewonthe1450prizetoclaimjustcall09050002311b4280703tcsstopsms08718727868over18only150ppm  \\\n",
              "0                                                  0                                                                                         \n",
              "1                                                  0                                                                                         \n",
              "2                                                  0                                                                                         \n",
              "3                                                  0                                                                                         \n",
              "4                                                  0                                                                                         \n",
              "\n",
              "   ...  yupok  \\\n",
              "0  ...      0   \n",
              "1  ...      0   \n",
              "2  ...      0   \n",
              "3  ...      0   \n",
              "4  ...      0   \n",
              "\n",
              "   yupokigohomelookatthetimingsthenimsgagainxuhuigoingtolearnon2ndmaytoobutherlessonisat8am  \\\n",
              "0                                                  0                                          \n",
              "1                                                  0                                          \n",
              "2                                                  0                                          \n",
              "3                                                  0                                          \n",
              "4                                                  0                                          \n",
              "\n",
              "   yupokthanx  yupsongbronocreativenevatestqualityhesaidcheckreviewonline  \\\n",
              "0           0                                                  0            \n",
              "1           0                                                  0            \n",
              "2           0                                                  0            \n",
              "3           0                                                  0            \n",
              "4           0                                                  0            \n",
              "\n",
              "   yupthkofuosoboringwat  yupwunbelievewatureallynevacemsgisentshuhui  \\\n",
              "0                      0                                            0   \n",
              "1                      0                                            0   \n",
              "2                      0                                            0   \n",
              "3                      0                                            0   \n",
              "4                      0                                            0   \n",
              "\n",
              "   yupziveoredibookedslots4myweekendsliao  ywantogotherecdoctor  \\\n",
              "0                                       0                     0   \n",
              "1                                       0                     0   \n",
              "2                                       0                     0   \n",
              "3                                       0                     0   \n",
              "4                                       0                     0   \n",
              "\n",
              "   ywhereuatdogbreathitsjustsoundinglikejancthatsal  \\\n",
              "0                                                 0   \n",
              "1                                                 0   \n",
              "2                                                 0   \n",
              "3                                                 0   \n",
              "4                                                 0   \n",
              "\n",
              "   zoeitjusthitme2imfuckingshitinmyselfildefotrymyhardest2cum2morowluvumillionslekdog  \n",
              "0                                                  0                                   \n",
              "1                                                  0                                   \n",
              "2                                                  0                                   \n",
              "3                                                  0                                   \n",
              "4                                                  0                                   \n",
              "\n",
              "[5 rows x 5123 columns]"
            ],
            "text/html": [
              "\n",
              "  <div id=\"df-63259fda-4e5b-400d-84df-599c5713a35b\">\n",
              "    <div class=\"colab-df-container\">\n",
              "      <div>\n",
              "<style scoped>\n",
              "    .dataframe tbody tr th:only-of-type {\n",
              "        vertical-align: middle;\n",
              "    }\n",
              "\n",
              "    .dataframe tbody tr th {\n",
              "        vertical-align: top;\n",
              "    }\n",
              "\n",
              "    .dataframe thead th {\n",
              "        text-align: right;\n",
              "    }\n",
              "</style>\n",
              "<table border=\"1\" class=\"dataframe\">\n",
              "  <thead>\n",
              "    <tr style=\"text-align: right;\">\n",
              "      <th></th>\n",
              "      <th>07732584351rodgerburnsmsgwetriedtocallyoureyourreplytooursmsforafreenokiamobilefreecamcorderpleasecallnow08000930705fordeliverytomorrow</th>\n",
              "      <th>08714712388between10am7pmcost10p</th>\n",
              "      <th>09066362231urgentyourmobileno07xxxxxxxxxwona2000bonuscallerprizeon020603thisisthe2ndattempttoreachyoucall09066362231asap</th>\n",
              "      <th>0anetworksallowcompaniestobillforsmssotheyareresponsiblefortheirsuppliersjustasashophastogiveaguaranteeonwhattheysellbg</th>\n",
              "      <th>1000sflirtingnowtxtgirlorblokeurnameageeggirlzoe18to8007tojoinandgetchatting</th>\n",
              "      <th>1000sofgirlsmanylocal2uwhorvirgins2thisrready24filureverysexualneedcanu4filtheirstextcuteto69911150pm</th>\n",
              "      <th>100datingservicecall09064012103box334sk38ch</th>\n",
              "      <th>10minlaterk</th>\n",
              "      <th>120thatcallcostwhichiguessisntbadmissyaneedyawantyaloveya</th>\n",
              "      <th>123congratulationsinthisweekscompetitiondrawuhavewonthe1450prizetoclaimjustcall09050002311b4280703tcsstopsms08718727868over18only150ppm</th>\n",
              "      <th>...</th>\n",
              "      <th>yupok</th>\n",
              "      <th>yupokigohomelookatthetimingsthenimsgagainxuhuigoingtolearnon2ndmaytoobutherlessonisat8am</th>\n",
              "      <th>yupokthanx</th>\n",
              "      <th>yupsongbronocreativenevatestqualityhesaidcheckreviewonline</th>\n",
              "      <th>yupthkofuosoboringwat</th>\n",
              "      <th>yupwunbelievewatureallynevacemsgisentshuhui</th>\n",
              "      <th>yupziveoredibookedslots4myweekendsliao</th>\n",
              "      <th>ywantogotherecdoctor</th>\n",
              "      <th>ywhereuatdogbreathitsjustsoundinglikejancthatsal</th>\n",
              "      <th>zoeitjusthitme2imfuckingshitinmyselfildefotrymyhardest2cum2morowluvumillionslekdog</th>\n",
              "    </tr>\n",
              "  </thead>\n",
              "  <tbody>\n",
              "    <tr>\n",
              "      <th>0</th>\n",
              "      <td>0</td>\n",
              "      <td>0</td>\n",
              "      <td>0</td>\n",
              "      <td>0</td>\n",
              "      <td>0</td>\n",
              "      <td>0</td>\n",
              "      <td>0</td>\n",
              "      <td>0</td>\n",
              "      <td>0</td>\n",
              "      <td>0</td>\n",
              "      <td>...</td>\n",
              "      <td>0</td>\n",
              "      <td>0</td>\n",
              "      <td>0</td>\n",
              "      <td>0</td>\n",
              "      <td>0</td>\n",
              "      <td>0</td>\n",
              "      <td>0</td>\n",
              "      <td>0</td>\n",
              "      <td>0</td>\n",
              "      <td>0</td>\n",
              "    </tr>\n",
              "    <tr>\n",
              "      <th>1</th>\n",
              "      <td>0</td>\n",
              "      <td>0</td>\n",
              "      <td>0</td>\n",
              "      <td>0</td>\n",
              "      <td>0</td>\n",
              "      <td>0</td>\n",
              "      <td>0</td>\n",
              "      <td>0</td>\n",
              "      <td>0</td>\n",
              "      <td>0</td>\n",
              "      <td>...</td>\n",
              "      <td>0</td>\n",
              "      <td>0</td>\n",
              "      <td>0</td>\n",
              "      <td>0</td>\n",
              "      <td>0</td>\n",
              "      <td>0</td>\n",
              "      <td>0</td>\n",
              "      <td>0</td>\n",
              "      <td>0</td>\n",
              "      <td>0</td>\n",
              "    </tr>\n",
              "    <tr>\n",
              "      <th>2</th>\n",
              "      <td>0</td>\n",
              "      <td>0</td>\n",
              "      <td>0</td>\n",
              "      <td>0</td>\n",
              "      <td>0</td>\n",
              "      <td>0</td>\n",
              "      <td>0</td>\n",
              "      <td>0</td>\n",
              "      <td>0</td>\n",
              "      <td>0</td>\n",
              "      <td>...</td>\n",
              "      <td>0</td>\n",
              "      <td>0</td>\n",
              "      <td>0</td>\n",
              "      <td>0</td>\n",
              "      <td>0</td>\n",
              "      <td>0</td>\n",
              "      <td>0</td>\n",
              "      <td>0</td>\n",
              "      <td>0</td>\n",
              "      <td>0</td>\n",
              "    </tr>\n",
              "    <tr>\n",
              "      <th>3</th>\n",
              "      <td>0</td>\n",
              "      <td>0</td>\n",
              "      <td>0</td>\n",
              "      <td>0</td>\n",
              "      <td>0</td>\n",
              "      <td>0</td>\n",
              "      <td>0</td>\n",
              "      <td>0</td>\n",
              "      <td>0</td>\n",
              "      <td>0</td>\n",
              "      <td>...</td>\n",
              "      <td>0</td>\n",
              "      <td>0</td>\n",
              "      <td>0</td>\n",
              "      <td>0</td>\n",
              "      <td>0</td>\n",
              "      <td>0</td>\n",
              "      <td>0</td>\n",
              "      <td>0</td>\n",
              "      <td>0</td>\n",
              "      <td>0</td>\n",
              "    </tr>\n",
              "    <tr>\n",
              "      <th>4</th>\n",
              "      <td>0</td>\n",
              "      <td>0</td>\n",
              "      <td>0</td>\n",
              "      <td>0</td>\n",
              "      <td>0</td>\n",
              "      <td>0</td>\n",
              "      <td>0</td>\n",
              "      <td>0</td>\n",
              "      <td>0</td>\n",
              "      <td>0</td>\n",
              "      <td>...</td>\n",
              "      <td>0</td>\n",
              "      <td>0</td>\n",
              "      <td>0</td>\n",
              "      <td>0</td>\n",
              "      <td>0</td>\n",
              "      <td>0</td>\n",
              "      <td>0</td>\n",
              "      <td>0</td>\n",
              "      <td>0</td>\n",
              "      <td>0</td>\n",
              "    </tr>\n",
              "  </tbody>\n",
              "</table>\n",
              "<p>5 rows × 5123 columns</p>\n",
              "</div>\n",
              "      <button class=\"colab-df-convert\" onclick=\"convertToInteractive('df-63259fda-4e5b-400d-84df-599c5713a35b')\"\n",
              "              title=\"Convert this dataframe to an interactive table.\"\n",
              "              style=\"display:none;\">\n",
              "        \n",
              "  <svg xmlns=\"http://www.w3.org/2000/svg\" height=\"24px\"viewBox=\"0 0 24 24\"\n",
              "       width=\"24px\">\n",
              "    <path d=\"M0 0h24v24H0V0z\" fill=\"none\"/>\n",
              "    <path d=\"M18.56 5.44l.94 2.06.94-2.06 2.06-.94-2.06-.94-.94-2.06-.94 2.06-2.06.94zm-11 1L8.5 8.5l.94-2.06 2.06-.94-2.06-.94L8.5 2.5l-.94 2.06-2.06.94zm10 10l.94 2.06.94-2.06 2.06-.94-2.06-.94-.94-2.06-.94 2.06-2.06.94z\"/><path d=\"M17.41 7.96l-1.37-1.37c-.4-.4-.92-.59-1.43-.59-.52 0-1.04.2-1.43.59L10.3 9.45l-7.72 7.72c-.78.78-.78 2.05 0 2.83L4 21.41c.39.39.9.59 1.41.59.51 0 1.02-.2 1.41-.59l7.78-7.78 2.81-2.81c.8-.78.8-2.07 0-2.86zM5.41 20L4 18.59l7.72-7.72 1.47 1.35L5.41 20z\"/>\n",
              "  </svg>\n",
              "      </button>\n",
              "      \n",
              "  <style>\n",
              "    .colab-df-container {\n",
              "      display:flex;\n",
              "      flex-wrap:wrap;\n",
              "      gap: 12px;\n",
              "    }\n",
              "\n",
              "    .colab-df-convert {\n",
              "      background-color: #E8F0FE;\n",
              "      border: none;\n",
              "      border-radius: 50%;\n",
              "      cursor: pointer;\n",
              "      display: none;\n",
              "      fill: #1967D2;\n",
              "      height: 32px;\n",
              "      padding: 0 0 0 0;\n",
              "      width: 32px;\n",
              "    }\n",
              "\n",
              "    .colab-df-convert:hover {\n",
              "      background-color: #E2EBFA;\n",
              "      box-shadow: 0px 1px 2px rgba(60, 64, 67, 0.3), 0px 1px 3px 1px rgba(60, 64, 67, 0.15);\n",
              "      fill: #174EA6;\n",
              "    }\n",
              "\n",
              "    [theme=dark] .colab-df-convert {\n",
              "      background-color: #3B4455;\n",
              "      fill: #D2E3FC;\n",
              "    }\n",
              "\n",
              "    [theme=dark] .colab-df-convert:hover {\n",
              "      background-color: #434B5C;\n",
              "      box-shadow: 0px 1px 3px 1px rgba(0, 0, 0, 0.15);\n",
              "      filter: drop-shadow(0px 1px 2px rgba(0, 0, 0, 0.3));\n",
              "      fill: #FFFFFF;\n",
              "    }\n",
              "  </style>\n",
              "\n",
              "      <script>\n",
              "        const buttonEl =\n",
              "          document.querySelector('#df-63259fda-4e5b-400d-84df-599c5713a35b button.colab-df-convert');\n",
              "        buttonEl.style.display =\n",
              "          google.colab.kernel.accessAllowed ? 'block' : 'none';\n",
              "\n",
              "        async function convertToInteractive(key) {\n",
              "          const element = document.querySelector('#df-63259fda-4e5b-400d-84df-599c5713a35b');\n",
              "          const dataTable =\n",
              "            await google.colab.kernel.invokeFunction('convertToInteractive',\n",
              "                                                     [key], {});\n",
              "          if (!dataTable) return;\n",
              "\n",
              "          const docLinkHtml = 'Like what you see? Visit the ' +\n",
              "            '<a target=\"_blank\" href=https://colab.research.google.com/notebooks/data_table.ipynb>data table notebook</a>'\n",
              "            + ' to learn more about interactive tables.';\n",
              "          element.innerHTML = '';\n",
              "          dataTable['output_type'] = 'display_data';\n",
              "          await google.colab.output.renderOutput(dataTable, element);\n",
              "          const docLink = document.createElement('div');\n",
              "          docLink.innerHTML = docLinkHtml;\n",
              "          element.appendChild(docLink);\n",
              "        }\n",
              "      </script>\n",
              "    </div>\n",
              "  </div>\n",
              "  "
            ]
          },
          "metadata": {},
          "execution_count": 91
        }
      ],
      "source": [
        "# TODO: Make a new dataframe with the BOW\n",
        "bow_df = pd.DataFrame(data=BOW, columns=vectorizer.get_feature_names_out())\n",
        "\n",
        "bow_df.head()"
      ]
    },
    {
      "cell_type": "markdown",
      "metadata": {
        "id": "FOqNmUPdNiHM"
      },
      "source": [
        "Let's check what is the most used word in the spam category and the non spam category.\n",
        "\n",
        "There are two steps: first add the class to the BOW dataframe. Second, filter on a class, sum all the values and print the most frequent one."
      ]
    },
    {
      "cell_type": "code",
      "execution_count": 92,
      "metadata": {
        "colab": {
          "base_uri": "https://localhost:8080/"
        },
        "id": "7LVg5q9MNiHM",
        "outputId": "acc194df-0ae0-46fe-f29a-166906b8a0ca"
      },
      "outputs": [
        {
          "output_type": "stream",
          "name": "stdout",
          "text": [
            "Most Frequent spam word camerayouareawardedasipixdigitalcameracall09061221066frommlandlinedeliverywithin28days\n",
            "Most Frequent non spam word sorryillcalllater\n"
          ]
        }
      ],
      "source": [
        "# TODO: print the most used word in the spam and non spam category\n",
        "tmp = bow_df.copy()\n",
        "tmp['Class'] = df['Class']\n",
        "most_frequent_spam = tmp[tmp['Class']==\"spam\"].drop(columns='Class').sum().idxmax()\n",
        "most_frequent_non_spam = tmp[tmp['Class']==\"ham\"].drop(columns='Class').sum().idxmax()\n",
        "print('Most Frequent spam word',most_frequent_spam)\n",
        "print('Most Frequent non spam word',most_frequent_non_spam)"
      ]
    },
    {
      "cell_type": "markdown",
      "metadata": {
        "id": "UVokBzJmNiHN"
      },
      "source": [
        "You should find that the most frequent spam word is 'free', not so surprising, right?"
      ]
    },
    {
      "cell_type": "markdown",
      "metadata": {
        "id": "F_1Wk9eUNiHN"
      },
      "source": [
        "Now we can make a classifier based on our BOW. We will use a simple logistic regression here for the example.\n",
        "\n",
        "You're an expert, you know what to do, right? Split the data, train your model, predict and see the performance."
      ]
    },
    {
      "cell_type": "code",
      "execution_count": 93,
      "metadata": {
        "colab": {
          "base_uri": "https://localhost:8080/"
        },
        "id": "z3L6CcjCNiHN",
        "outputId": "5237ad99-8ee2-4220-ba1d-1fc4958c1f28"
      },
      "outputs": [
        {
          "output_type": "stream",
          "name": "stdout",
          "text": [
            "[0 0 1 ... 0 0 0]\n"
          ]
        },
        {
          "output_type": "execute_result",
          "data": {
            "text/plain": [
              "0.8708520179372198"
            ]
          },
          "metadata": {},
          "execution_count": 93
        }
      ],
      "source": [
        "# TODO: Perform a classification to predict whether a message is a spam or not\n",
        "from sklearn.svm import SVC\n",
        "from sklearn.linear_model import LogisticRegression\n",
        "from sklearn.model_selection import train_test_split\n",
        "from sklearn.metrics import accuracy_score\n",
        "from sklearn import preprocessing\n",
        "np.set_printoptions(threshold=7)\n",
        "le = preprocessing.LabelEncoder()\n",
        "le.fit(df['Class'])\n",
        "print(le.transform(df['Class']))\n",
        "\n",
        "X_train, X_test, y_train, y_test = train_test_split(bow_df, le.transform(df['Class']), test_size=0.2)\n",
        "classifier = LogisticRegression()\n",
        "classifier.fit(X_train, y_train)\n",
        "test_pred = classifier.predict(X_test)\n",
        "\n",
        "accuracy_score(y_test, test_pred)"
      ]
    },
    {
      "cell_type": "markdown",
      "metadata": {
        "id": "tJTJQLrGNiHN"
      },
      "source": [
        "What precision do you get? Check by hand on some samples where it did predict well to check what could go wrong...\n",
        "\n",
        "Try to use other models and try to improve your results."
      ]
    },
    {
      "cell_type": "code",
      "execution_count": 97,
      "metadata": {
        "colab": {
          "base_uri": "https://localhost:8080/",
          "height": 483
        },
        "id": "g9SNpFI7NiHO",
        "outputId": "f6119895-6c94-4bf1-9738-ef21423bfd4a"
      },
      "outputs": [
        {
          "output_type": "display_data",
          "data": {
            "text/plain": [
              "<Figure size 720x576 with 2 Axes>"
            ],
            "image/png": "[encoded data removed]"
          },
          "metadata": {
            "needs_background": "light"
          }
        }
      ],
      "source": [
        "from sklearn.metrics import confusion_matrix\n",
        "import seaborn as sns\n",
        "import matplotlib.pyplot as plt\n",
        "\n",
        "conf_matrix = confusion_matrix(y_test, test_pred)\n",
        "plt.figure(figsize=(10,8))\n",
        "sns.heatmap(conf_matrix, annot=True, fmt='g',\n",
        "            xticklabels=['Non-spam predictions','spam predictions'], \n",
        "            yticklabels=['Non-spam actual','spam actual'])\n",
        "plt.show()"
      ]
    }
  ],
  "metadata": {
    "kernelspec": {
      "display_name": "Python 3 (ipykernel)",
      "language": "python",
      "name": "python3"
    },
    "language_info": {
      "codemirror_mode": {
        "name": "ipython",
        "version": 3
      },
      "file_extension": ".py",
      "mimetype": "text/x-python",
      "name": "python",
      "nbconvert_exporter": "python",
      "pygments_lexer": "ipython3",
      "version": "3.9.7"
    },
    "toc": {
      "base_numbering": 1,
      "nav_menu": {},
      "number_sections": true,
      "sideBar": true,
      "skip_h1_title": false,
      "title_cell": "Table of Contents",
      "title_sidebar": "Contents",
      "toc_cell": false,
      "toc_position": {},
      "toc_section_display": true,
      "toc_window_display": false
    },
    "colab": {
      "name": "Spam-Classifier(1).ipynb",
      "provenance": [],
      "collapsed_sections": [],
      "include_colab_link": true
    }
  },
  "nbformat": 4,
  "nbformat_minor": 0
}