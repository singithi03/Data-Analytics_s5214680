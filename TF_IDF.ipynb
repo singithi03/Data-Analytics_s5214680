{
  "cells": [
    {
      "cell_type": "markdown",
      "metadata": {
        "id": "view-in-github",
        "colab_type": "text"
      },
      "source": [
        "<a href=\"https://colab.research.google.com/github/singithi03/Data-Analytics_s5214680/blob/Lab-6/TF_IDF.ipynb\" target=\"_parent\"><img src=\"https://colab.research.google.com/assets/colab-badge.svg\" alt=\"Open In Colab\"/></a>"
      ]
    },
    {
      "cell_type": "markdown",
      "metadata": {
        "id": "xIxCx-QYW_R9"
      },
      "source": [
        "# 01-TF-IDF"
      ]
    },
    {
      "cell_type": "markdown",
      "metadata": {
        "id": "2LqbkGchW_R_"
      },
      "source": [
        "We will here compute the TF-IDF on a corpus of newspaper headlines."
      ]
    },
    {
      "cell_type": "markdown",
      "metadata": {
        "id": "IITgHiFUW_R_"
      },
      "source": [
        "Begin by importing needed libraries:"
      ]
    },
    {
      "cell_type": "code",
      "execution_count": 8,
      "metadata": {
        "id": "tHJKIxuOW_R_"
      },
      "outputs": [],
      "source": [
        "# import needed libraries\n",
        "import nltk\n",
        "import numpy as np\n",
        "import pandas as pd"
      ]
    },
    {
      "cell_type": "markdown",
      "metadata": {
        "id": "C3azzIc0W_SA"
      },
      "source": [
        "Import the data into the file *headlines.csv*"
      ]
    },
    {
      "cell_type": "code",
      "execution_count": 9,
      "metadata": {
        "id": "VD8nyDioW_SA"
      },
      "outputs": [],
      "source": [
        "# TODO: Load the dataset\n",
        "df = pd.read_csv('headlines.csv')"
      ]
    },
    {
      "cell_type": "markdown",
      "metadata": {
        "id": "kfWiIN4DW_SA"
      },
      "source": [
        "As usual, check the dataset basic information."
      ]
    },
    {
      "cell_type": "code",
      "execution_count": 10,
      "metadata": {
        "scrolled": true,
        "colab": {
          "base_uri": "https://localhost:8080/"
        },
        "id": "kJ7IXaSUW_SB",
        "outputId": "84c47d06-8442-4a4b-a70a-fbc4985853ef"
      },
      "outputs": [
        {
          "output_type": "stream",
          "name": "stdout",
          "text": [
            "<class 'pandas.core.frame.DataFrame'>\n",
            "RangeIndex: 1999 entries, 0 to 1998\n",
            "Data columns (total 2 columns):\n",
            " #   Column         Non-Null Count  Dtype \n",
            "---  ------         --------------  ----- \n",
            " 0   publish_date   1999 non-null   int64 \n",
            " 1   headline_text  1999 non-null   object\n",
            "dtypes: int64(1), object(1)\n",
            "memory usage: 31.4+ KB\n"
          ]
        }
      ],
      "source": [
        "# TODO: Have a look at the data\n",
        "df.info()"
      ]
    },
    {
      "cell_type": "markdown",
      "metadata": {
        "id": "DYcX2guNW_SB"
      },
      "source": [
        "We will now perform preprocessing on this text data: tokenization, punctuation and stop words removal and stemming.\n",
        "\n",
        "Hint: to do so, use NLTK, *pandas*'s method *apply*, lambda functions and list comprehension"
      ]
    },
    {
      "cell_type": "code",
      "execution_count": 14,
      "metadata": {
        "scrolled": true,
        "id": "FoNmFgLwW_SB",
        "outputId": "3a73d944-9773-42bf-9464-76b45b5a78f5",
        "colab": {
          "base_uri": "https://localhost:8080/"
        }
      },
      "outputs": [
        {
          "output_type": "execute_result",
          "data": {
            "text/plain": [
              "0         [algorithm, make, decis, behalf, feder, minist]\n",
              "1       [andrew, forrest, fmg, appeal, pilbara, nativ,...\n",
              "2                                 [rural, mural, thallan]\n",
              "3                  [australia, church, risk, becom, abus]\n",
              "4       [australian, compani, usgfx, embroil, shanghai...\n",
              "                              ...                        \n",
              "1994    [constitut, avenu, win, top, prize, act, archi...\n",
              "1995                         [dark, mofo, number, crunch]\n",
              "1996    [david, petraeu, say, australia, must, firm, s...\n",
              "1997    [driverless, car, australia, face, challeng, r...\n",
              "1998               [drug, compani, criticis, price, hike]\n",
              "Name: stemmed, Length: 1999, dtype: object"
            ]
          },
          "metadata": {},
          "execution_count": 14
        }
      ],
      "source": [
        "# TODO: Perform preprocessing\n",
        "# import needed modules\n",
        "import nltk\n",
        "\n",
        "from nltk.tokenize import word_tokenize\n",
        "from nltk.stem import PorterStemmer\n",
        "from nltk.corpus import stopwords\n",
        "# Tokenize\n",
        "df['tokens'] = df.apply(lambda row: nltk.word_tokenize(row['headline_text']), axis=1)\n",
        "# Remove punctuation\n",
        "df['alpha'] = df['tokens'].apply(lambda x: [item for item in x if item.isalpha()])\n",
        "# Remove stop words\n",
        "stop_words=stopwords.words(\"english\")\n",
        "df['stop']=df['alpha'].apply(lambda x: [item for item in x if item not in stop_words])\n",
        "\n",
        "# Stem\n",
        "stemmer = PorterStemmer()\n",
        "df['stemmed']= df['stop'].apply(lambda x: [stemmer.stem(item) for item in x])\n",
        "df['stemmed']"
      ]
    },
    {
      "cell_type": "markdown",
      "metadata": {
        "id": "A0rI48tpW_SC"
      },
      "source": [
        "Compute now the Bag of Words for our data, using scikit-learn.\n",
        "\n",
        "Warning: since we used our own preprocessing, you have to bypass analyzer with identity function."
      ]
    },
    {
      "cell_type": "code",
      "execution_count": 17,
      "metadata": {
        "id": "w1mGrK_YW_SC",
        "outputId": "785e7336-8fb8-49a5-8f64-c50e135b0e10",
        "colab": {
          "base_uri": "https://localhost:8080/"
        }
      },
      "outputs": [
        {
          "output_type": "execute_result",
          "data": {
            "text/plain": [
              "(1999, 4165)"
            ]
          },
          "metadata": {},
          "execution_count": 17
        }
      ],
      "source": [
        "# TODO: Compute the BOW of the preprocessed data\n",
        "from sklearn.feature_extraction.text import CountVectorizer\n",
        "\n",
        "vectorizer = CountVectorizer(lowercase=False, analyzer=lambda x: x)\n",
        "BOW = vectorizer.fit_transform(df['stemmed']).toarray()\n",
        "BOW.shape"
      ]
    },
    {
      "cell_type": "code",
      "source": [
        "pd.DataFrame(data=BOW, columns=vectorizer.get_feature_names())"
      ],
      "metadata": {
        "colab": {
          "base_uri": "https://localhost:8080/",
          "height": 479
        },
        "id": "AtIA7jP_o5Ne",
        "outputId": "fb431633-f03f-4b17-a73d-e06dd41f2169"
      },
      "execution_count": 18,
      "outputs": [
        {
          "output_type": "stream",
          "name": "stderr",
          "text": [
            "/usr/local/lib/python3.7/dist-packages/sklearn/utils/deprecation.py:87: FutureWarning: Function get_feature_names is deprecated; get_feature_names is deprecated in 1.0 and will be removed in 1.2. Please use get_feature_names_out instead.\n",
            "  warnings.warn(msg, category=FutureWarning)\n"
          ]
        },
        {
          "output_type": "execute_result",
          "data": {
            "text/plain": [
              "      aardman  aaron  ab  aback  abbott  abc  abel  abil  ablett  aborigin  \\\n",
              "0           0      0   0      0       0    0     0     0       0         0   \n",
              "1           0      0   0      0       0    0     0     0       0         0   \n",
              "2           0      0   0      0       0    0     0     0       0         0   \n",
              "3           0      0   0      0       0    0     0     0       0         0   \n",
              "4           0      0   0      0       0    0     0     0       0         0   \n",
              "...       ...    ...  ..    ...     ...  ...   ...   ...     ...       ...   \n",
              "1994        0      0   0      0       0    0     0     0       0         0   \n",
              "1995        0      0   0      0       0    0     0     0       0         0   \n",
              "1996        0      0   0      0       0    0     0     0       0         0   \n",
              "1997        0      0   0      0       0    0     0     0       0         0   \n",
              "1998        0      0   0      0       0    0     0     0       0         0   \n",
              "\n",
              "      ...  youtub  zambian  zealand  zedd  zinc  zion  zombi  zone  zonta  zoo  \n",
              "0     ...       0        0        0     0     0     0      0     0      0    0  \n",
              "1     ...       0        0        0     0     0     0      0     0      0    0  \n",
              "2     ...       0        0        0     0     0     0      0     0      0    0  \n",
              "3     ...       0        0        0     0     0     0      0     0      0    0  \n",
              "4     ...       0        0        0     0     0     0      0     0      0    0  \n",
              "...   ...     ...      ...      ...   ...   ...   ...    ...   ...    ...  ...  \n",
              "1994  ...       0        0        0     0     0     0      0     0      0    0  \n",
              "1995  ...       0        0        0     0     0     0      0     0      0    0  \n",
              "1996  ...       0        0        0     0     0     0      0     0      0    0  \n",
              "1997  ...       0        0        0     0     0     0      0     0      0    0  \n",
              "1998  ...       0        0        0     0     0     0      0     0      0    0  \n",
              "\n",
              "[1999 rows x 4165 columns]"
            ],
            "text/html": [
              "\n",
              "  <div id=\"df-82946c57-6292-4ef8-944d-8038795ecd55\">\n",
              "    <div class=\"colab-df-container\">\n",
              "      <div>\n",
              "<style scoped>\n",
              "    .dataframe tbody tr th:only-of-type {\n",
              "        vertical-align: middle;\n",
              "    }\n",
              "\n",
              "    .dataframe tbody tr th {\n",
              "        vertical-align: top;\n",
              "    }\n",
              "\n",
              "    .dataframe thead th {\n",
              "        text-align: right;\n",
              "    }\n",
              "</style>\n",
              "<table border=\"1\" class=\"dataframe\">\n",
              "  <thead>\n",
              "    <tr style=\"text-align: right;\">\n",
              "      <th></th>\n",
              "      <th>aardman</th>\n",
              "      <th>aaron</th>\n",
              "      <th>ab</th>\n",
              "      <th>aback</th>\n",
              "      <th>abbott</th>\n",
              "      <th>abc</th>\n",
              "      <th>abel</th>\n",
              "      <th>abil</th>\n",
              "      <th>ablett</th>\n",
              "      <th>aborigin</th>\n",
              "      <th>...</th>\n",
              "      <th>youtub</th>\n",
              "      <th>zambian</th>\n",
              "      <th>zealand</th>\n",
              "      <th>zedd</th>\n",
              "      <th>zinc</th>\n",
              "      <th>zion</th>\n",
              "      <th>zombi</th>\n",
              "      <th>zone</th>\n",
              "      <th>zonta</th>\n",
              "      <th>zoo</th>\n",
              "    </tr>\n",
              "  </thead>\n",
              "  <tbody>\n",
              "    <tr>\n",
              "      <th>0</th>\n",
              "      <td>0</td>\n",
              "      <td>0</td>\n",
              "      <td>0</td>\n",
              "      <td>0</td>\n",
              "      <td>0</td>\n",
              "      <td>0</td>\n",
              "      <td>0</td>\n",
              "      <td>0</td>\n",
              "      <td>0</td>\n",
              "      <td>0</td>\n",
              "      <td>...</td>\n",
              "      <td>0</td>\n",
              "      <td>0</td>\n",
              "      <td>0</td>\n",
              "      <td>0</td>\n",
              "      <td>0</td>\n",
              "      <td>0</td>\n",
              "      <td>0</td>\n",
              "      <td>0</td>\n",
              "      <td>0</td>\n",
              "      <td>0</td>\n",
              "    </tr>\n",
              "    <tr>\n",
              "      <th>1</th>\n",
              "      <td>0</td>\n",
              "      <td>0</td>\n",
              "      <td>0</td>\n",
              "      <td>0</td>\n",
              "      <td>0</td>\n",
              "      <td>0</td>\n",
              "      <td>0</td>\n",
              "      <td>0</td>\n",
              "      <td>0</td>\n",
              "      <td>0</td>\n",
              "      <td>...</td>\n",
              "      <td>0</td>\n",
              "      <td>0</td>\n",
              "      <td>0</td>\n",
              "      <td>0</td>\n",
              "      <td>0</td>\n",
              "      <td>0</td>\n",
              "      <td>0</td>\n",
              "      <td>0</td>\n",
              "      <td>0</td>\n",
              "      <td>0</td>\n",
              "    </tr>\n",
              "    <tr>\n",
              "      <th>2</th>\n",
              "      <td>0</td>\n",
              "      <td>0</td>\n",
              "      <td>0</td>\n",
              "      <td>0</td>\n",
              "      <td>0</td>\n",
              "      <td>0</td>\n",
              "      <td>0</td>\n",
              "      <td>0</td>\n",
              "      <td>0</td>\n",
              "      <td>0</td>\n",
              "      <td>...</td>\n",
              "      <td>0</td>\n",
              "      <td>0</td>\n",
              "      <td>0</td>\n",
              "      <td>0</td>\n",
              "      <td>0</td>\n",
              "      <td>0</td>\n",
              "      <td>0</td>\n",
              "      <td>0</td>\n",
              "      <td>0</td>\n",
              "      <td>0</td>\n",
              "    </tr>\n",
              "    <tr>\n",
              "      <th>3</th>\n",
              "      <td>0</td>\n",
              "      <td>0</td>\n",
              "      <td>0</td>\n",
              "      <td>0</td>\n",
              "      <td>0</td>\n",
              "      <td>0</td>\n",
              "      <td>0</td>\n",
              "      <td>0</td>\n",
              "      <td>0</td>\n",
              "      <td>0</td>\n",
              "      <td>...</td>\n",
              "      <td>0</td>\n",
              "      <td>0</td>\n",
              "      <td>0</td>\n",
              "      <td>0</td>\n",
              "      <td>0</td>\n",
              "      <td>0</td>\n",
              "      <td>0</td>\n",
              "      <td>0</td>\n",
              "      <td>0</td>\n",
              "      <td>0</td>\n",
              "    </tr>\n",
              "    <tr>\n",
              "      <th>4</th>\n",
              "      <td>0</td>\n",
              "      <td>0</td>\n",
              "      <td>0</td>\n",
              "      <td>0</td>\n",
              "      <td>0</td>\n",
              "      <td>0</td>\n",
              "      <td>0</td>\n",
              "      <td>0</td>\n",
              "      <td>0</td>\n",
              "      <td>0</td>\n",
              "      <td>...</td>\n",
              "      <td>0</td>\n",
              "      <td>0</td>\n",
              "      <td>0</td>\n",
              "      <td>0</td>\n",
              "      <td>0</td>\n",
              "      <td>0</td>\n",
              "      <td>0</td>\n",
              "      <td>0</td>\n",
              "      <td>0</td>\n",
              "      <td>0</td>\n",
              "    </tr>\n",
              "    <tr>\n",
              "      <th>...</th>\n",
              "      <td>...</td>\n",
              "      <td>...</td>\n",
              "      <td>...</td>\n",
              "      <td>...</td>\n",
              "      <td>...</td>\n",
              "      <td>...</td>\n",
              "      <td>...</td>\n",
              "      <td>...</td>\n",
              "      <td>...</td>\n",
              "      <td>...</td>\n",
              "      <td>...</td>\n",
              "      <td>...</td>\n",
              "      <td>...</td>\n",
              "      <td>...</td>\n",
              "      <td>...</td>\n",
              "      <td>...</td>\n",
              "      <td>...</td>\n",
              "      <td>...</td>\n",
              "      <td>...</td>\n",
              "      <td>...</td>\n",
              "      <td>...</td>\n",
              "    </tr>\n",
              "    <tr>\n",
              "      <th>1994</th>\n",
              "      <td>0</td>\n",
              "      <td>0</td>\n",
              "      <td>0</td>\n",
              "      <td>0</td>\n",
              "      <td>0</td>\n",
              "      <td>0</td>\n",
              "      <td>0</td>\n",
              "      <td>0</td>\n",
              "      <td>0</td>\n",
              "      <td>0</td>\n",
              "      <td>...</td>\n",
              "      <td>0</td>\n",
              "      <td>0</td>\n",
              "      <td>0</td>\n",
              "      <td>0</td>\n",
              "      <td>0</td>\n",
              "      <td>0</td>\n",
              "      <td>0</td>\n",
              "      <td>0</td>\n",
              "      <td>0</td>\n",
              "      <td>0</td>\n",
              "    </tr>\n",
              "    <tr>\n",
              "      <th>1995</th>\n",
              "      <td>0</td>\n",
              "      <td>0</td>\n",
              "      <td>0</td>\n",
              "      <td>0</td>\n",
              "      <td>0</td>\n",
              "      <td>0</td>\n",
              "      <td>0</td>\n",
              "      <td>0</td>\n",
              "      <td>0</td>\n",
              "      <td>0</td>\n",
              "      <td>...</td>\n",
              "      <td>0</td>\n",
              "      <td>0</td>\n",
              "      <td>0</td>\n",
              "      <td>0</td>\n",
              "      <td>0</td>\n",
              "      <td>0</td>\n",
              "      <td>0</td>\n",
              "      <td>0</td>\n",
              "      <td>0</td>\n",
              "      <td>0</td>\n",
              "    </tr>\n",
              "    <tr>\n",
              "      <th>1996</th>\n",
              "      <td>0</td>\n",
              "      <td>0</td>\n",
              "      <td>0</td>\n",
              "      <td>0</td>\n",
              "      <td>0</td>\n",
              "      <td>0</td>\n",
              "      <td>0</td>\n",
              "      <td>0</td>\n",
              "      <td>0</td>\n",
              "      <td>0</td>\n",
              "      <td>...</td>\n",
              "      <td>0</td>\n",
              "      <td>0</td>\n",
              "      <td>0</td>\n",
              "      <td>0</td>\n",
              "      <td>0</td>\n",
              "      <td>0</td>\n",
              "      <td>0</td>\n",
              "      <td>0</td>\n",
              "      <td>0</td>\n",
              "      <td>0</td>\n",
              "    </tr>\n",
              "    <tr>\n",
              "      <th>1997</th>\n",
              "      <td>0</td>\n",
              "      <td>0</td>\n",
              "      <td>0</td>\n",
              "      <td>0</td>\n",
              "      <td>0</td>\n",
              "      <td>0</td>\n",
              "      <td>0</td>\n",
              "      <td>0</td>\n",
              "      <td>0</td>\n",
              "      <td>0</td>\n",
              "      <td>...</td>\n",
              "      <td>0</td>\n",
              "      <td>0</td>\n",
              "      <td>0</td>\n",
              "      <td>0</td>\n",
              "      <td>0</td>\n",
              "      <td>0</td>\n",
              "      <td>0</td>\n",
              "      <td>0</td>\n",
              "      <td>0</td>\n",
              "      <td>0</td>\n",
              "    </tr>\n",
              "    <tr>\n",
              "      <th>1998</th>\n",
              "      <td>0</td>\n",
              "      <td>0</td>\n",
              "      <td>0</td>\n",
              "      <td>0</td>\n",
              "      <td>0</td>\n",
              "      <td>0</td>\n",
              "      <td>0</td>\n",
              "      <td>0</td>\n",
              "      <td>0</td>\n",
              "      <td>0</td>\n",
              "      <td>...</td>\n",
              "      <td>0</td>\n",
              "      <td>0</td>\n",
              "      <td>0</td>\n",
              "      <td>0</td>\n",
              "      <td>0</td>\n",
              "      <td>0</td>\n",
              "      <td>0</td>\n",
              "      <td>0</td>\n",
              "      <td>0</td>\n",
              "      <td>0</td>\n",
              "    </tr>\n",
              "  </tbody>\n",
              "</table>\n",
              "<p>1999 rows × 4165 columns</p>\n",
              "</div>\n",
              "      <button class=\"colab-df-convert\" onclick=\"convertToInteractive('df-82946c57-6292-4ef8-944d-8038795ecd55')\"\n",
              "              title=\"Convert this dataframe to an interactive table.\"\n",
              "              style=\"display:none;\">\n",
              "        \n",
              "  <svg xmlns=\"http://www.w3.org/2000/svg\" height=\"24px\"viewBox=\"0 0 24 24\"\n",
              "       width=\"24px\">\n",
              "    <path d=\"M0 0h24v24H0V0z\" fill=\"none\"/>\n",
              "    <path d=\"M18.56 5.44l.94 2.06.94-2.06 2.06-.94-2.06-.94-.94-2.06-.94 2.06-2.06.94zm-11 1L8.5 8.5l.94-2.06 2.06-.94-2.06-.94L8.5 2.5l-.94 2.06-2.06.94zm10 10l.94 2.06.94-2.06 2.06-.94-2.06-.94-.94-2.06-.94 2.06-2.06.94z\"/><path d=\"M17.41 7.96l-1.37-1.37c-.4-.4-.92-.59-1.43-.59-.52 0-1.04.2-1.43.59L10.3 9.45l-7.72 7.72c-.78.78-.78 2.05 0 2.83L4 21.41c.39.39.9.59 1.41.59.51 0 1.02-.2 1.41-.59l7.78-7.78 2.81-2.81c.8-.78.8-2.07 0-2.86zM5.41 20L4 18.59l7.72-7.72 1.47 1.35L5.41 20z\"/>\n",
              "  </svg>\n",
              "      </button>\n",
              "      \n",
              "  <style>\n",
              "    .colab-df-container {\n",
              "      display:flex;\n",
              "      flex-wrap:wrap;\n",
              "      gap: 12px;\n",
              "    }\n",
              "\n",
              "    .colab-df-convert {\n",
              "      background-color: #E8F0FE;\n",
              "      border: none;\n",
              "      border-radius: 50%;\n",
              "      cursor: pointer;\n",
              "      display: none;\n",
              "      fill: #1967D2;\n",
              "      height: 32px;\n",
              "      padding: 0 0 0 0;\n",
              "      width: 32px;\n",
              "    }\n",
              "\n",
              "    .colab-df-convert:hover {\n",
              "      background-color: #E2EBFA;\n",
              "      box-shadow: 0px 1px 2px rgba(60, 64, 67, 0.3), 0px 1px 3px 1px rgba(60, 64, 67, 0.15);\n",
              "      fill: #174EA6;\n",
              "    }\n",
              "\n",
              "    [theme=dark] .colab-df-convert {\n",
              "      background-color: #3B4455;\n",
              "      fill: #D2E3FC;\n",
              "    }\n",
              "\n",
              "    [theme=dark] .colab-df-convert:hover {\n",
              "      background-color: #434B5C;\n",
              "      box-shadow: 0px 1px 3px 1px rgba(0, 0, 0, 0.15);\n",
              "      filter: drop-shadow(0px 1px 2px rgba(0, 0, 0, 0.3));\n",
              "      fill: #FFFFFF;\n",
              "    }\n",
              "  </style>\n",
              "\n",
              "      <script>\n",
              "        const buttonEl =\n",
              "          document.querySelector('#df-82946c57-6292-4ef8-944d-8038795ecd55 button.colab-df-convert');\n",
              "        buttonEl.style.display =\n",
              "          google.colab.kernel.accessAllowed ? 'block' : 'none';\n",
              "\n",
              "        async function convertToInteractive(key) {\n",
              "          const element = document.querySelector('#df-82946c57-6292-4ef8-944d-8038795ecd55');\n",
              "          const dataTable =\n",
              "            await google.colab.kernel.invokeFunction('convertToInteractive',\n",
              "                                                     [key], {});\n",
              "          if (!dataTable) return;\n",
              "\n",
              "          const docLinkHtml = 'Like what you see? Visit the ' +\n",
              "            '<a target=\"_blank\" href=https://colab.research.google.com/notebooks/data_table.ipynb>data table notebook</a>'\n",
              "            + ' to learn more about interactive tables.';\n",
              "          element.innerHTML = '';\n",
              "          dataTable['output_type'] = 'display_data';\n",
              "          await google.colab.output.renderOutput(dataTable, element);\n",
              "          const docLink = document.createElement('div');\n",
              "          docLink.innerHTML = docLinkHtml;\n",
              "          element.appendChild(docLink);\n",
              "        }\n",
              "      </script>\n",
              "    </div>\n",
              "  </div>\n",
              "  "
            ]
          },
          "metadata": {},
          "execution_count": 18
        }
      ]
    },
    {
      "cell_type": "markdown",
      "metadata": {
        "id": "ecz4dAgNW_SC"
      },
      "source": [
        "You can check the shape of the BOW, the expected value is `(1999, 4165)`."
      ]
    },
    {
      "cell_type": "markdown",
      "metadata": {
        "id": "6WfC-eFCW_SC"
      },
      "source": [
        "Now compute the Term Frequency and then the Inverse Document Frequency, and check the values are not only zeros."
      ]
    },
    {
      "cell_type": "code",
      "execution_count": 19,
      "metadata": {
        "id": "w5zNKWNPW_SD",
        "outputId": "6604a0dc-a511-4c9d-c154-d082fa4fb624",
        "colab": {
          "base_uri": "https://localhost:8080/"
        }
      },
      "outputs": [
        {
          "output_type": "stream",
          "name": "stderr",
          "text": [
            "/usr/local/lib/python3.7/dist-packages/sklearn/utils/deprecation.py:87: FutureWarning: Function get_feature_names is deprecated; get_feature_names is deprecated in 1.0 and will be removed in 1.2. Please use get_feature_names_out instead.\n",
            "  warnings.warn(msg, category=FutureWarning)\n"
          ]
        },
        {
          "output_type": "execute_result",
          "data": {
            "text/plain": [
              "array([0.        , 0.08333333, 0.09090909, 0.1       , 0.11111111,\n",
              "       0.125     , 0.14285714, 0.16666667, 0.18181818, 0.2       ,\n",
              "       0.22222222, 0.25      , 0.28571429, 0.33333333, 0.4       ,\n",
              "       0.5       , 1.        ])"
            ]
          },
          "metadata": {},
          "execution_count": 19
        }
      ],
      "source": [
        "# TODO: Compute the TF using the BOW\n",
        "TF = pd.DataFrame(data=BOW, columns=vectorizer.get_feature_names())\n",
        "TF = TF.divide(TF.sum(axis=1), axis=0)\n",
        "np.unique(TF)"
      ]
    },
    {
      "cell_type": "code",
      "execution_count": 21,
      "metadata": {
        "scrolled": true,
        "id": "T-6-j8siW_SD",
        "outputId": "1a778fa1-ee29-4b35-d34a-0426980718a1",
        "colab": {
          "base_uri": "https://localhost:8080/"
        }
      },
      "outputs": [
        {
          "output_type": "stream",
          "name": "stderr",
          "text": [
            "/usr/local/lib/python3.7/dist-packages/sklearn/utils/deprecation.py:87: FutureWarning: Function get_feature_names is deprecated; get_feature_names is deprecated in 1.0 and will be removed in 1.2. Please use get_feature_names_out instead.\n",
            "  warnings.warn(msg, category=FutureWarning)\n"
          ]
        },
        {
          "output_type": "execute_result",
          "data": {
            "text/plain": [
              "array([3.28291422, 3.36629583, 3.44151925, 3.53995932, 3.57505064,\n",
              "       3.70858204, 3.79373984, 3.83920222, 3.91152288, 3.96281617,\n",
              "       4.04505427, 4.10389477, 4.13466643, 4.16641513, 4.19920495,\n",
              "       4.2331065 , 4.26819782, 4.30456547, 4.3423058 , 4.38152651,\n",
              "       4.4223485 , 4.46490812, 4.50935988, 4.5558799 , 4.60467006,\n",
              "       4.65596336, 4.71003058, 4.76718899, 4.82781361, 4.89235213,\n",
              "       4.961345  , 5.03545298, 5.11549568, 5.20250706, 5.29781724,\n",
              "       5.40317776, 5.52096079, 5.65449219, 5.80864287, 5.99096442,\n",
              "       6.21410797, 6.50179005, 6.90725515, 7.60040233])"
            ]
          },
          "metadata": {},
          "execution_count": 21
        }
      ],
      "source": [
        "# TODO: Compute the IDF\n",
        "IDF = pd.DataFrame(data=BOW, columns = vectorizer.get_feature_names())\n",
        "IDF[IDF>1] = 1\n",
        "IDF = np.log(len(IDF)/IDF.sum(axis=0))\n",
        "np.unique(IDF)"
      ]
    },
    {
      "cell_type": "markdown",
      "metadata": {
        "id": "7ahqhu_zW_SD"
      },
      "source": [
        "Compute finally the TF-IDF."
      ]
    },
    {
      "cell_type": "code",
      "execution_count": 22,
      "metadata": {
        "id": "42xmUBRlW_SD"
      },
      "outputs": [],
      "source": [
        "# TODO: compute the TF-IDF\n",
        "tfidf = TF * IDF"
      ]
    },
    {
      "cell_type": "markdown",
      "metadata": {
        "id": "2SVrFQkCW_SD"
      },
      "source": [
        "What are the 10 words with the highest and lowest TF-IDF on average?"
      ]
    },
    {
      "cell_type": "code",
      "execution_count": 28,
      "metadata": {
        "id": "BPIvaC_MW_SD",
        "outputId": "3c33ce37-263b-41a8-ef24-2a80907b2965",
        "colab": {
          "base_uri": "https://localhost:8080/"
        }
      },
      "outputs": [
        {
          "output_type": "stream",
          "name": "stdout",
          "text": [
            "lowest words: gcfc    0.633367\n",
            "geel    0.633367\n",
            "gw      0.633367\n",
            "haw     0.633367\n",
            "melb    0.633367\n",
            "coll    0.633367\n",
            "adel    0.633367\n",
            "syd     0.633367\n",
            "nmfc    0.633367\n",
            "cold    0.690456\n",
            "dtype: float64\n",
            "highest words: peacemak     7.600402\n",
            "pump         6.907255\n",
            "date         3.800201\n",
            "puffbal      3.800201\n",
            "superannu    3.800201\n",
            "mongolian    3.800201\n",
            "loophol      3.800201\n",
            "rig          3.800201\n",
            "aquapon      3.800201\n",
            "mous         3.800201\n",
            "dtype: float64\n"
          ]
        }
      ],
      "source": [
        "# TODO: Print the 10 words with the highest and lowest TF-IDF on average\n",
        "print('lowest words:', tfidf.max(axis=0).sort_values()[:10])\n",
        "print('highest words:', tfidf.max(axis=0).sort_values(ascending=False)[:10])"
      ]
    },
    {
      "cell_type": "markdown",
      "metadata": {
        "id": "KIl1U_HlW_SD"
      },
      "source": [
        "Now let's compute the TF-IDF using scikit-learn on our preprocessed data (the one you used to compute the BOW)."
      ]
    },
    {
      "cell_type": "code",
      "source": [
        "!pip3 install scikit-learn\n",
        "!pip3 install pandas"
      ],
      "metadata": {
        "colab": {
          "base_uri": "https://localhost:8080/"
        },
        "id": "ZQRaYwfWtcpA",
        "outputId": "8837faec-89bf-4b3b-9a16-c79cb7167a4a"
      },
      "execution_count": 30,
      "outputs": [
        {
          "output_type": "stream",
          "name": "stdout",
          "text": [
            "Requirement already satisfied: scikit-learn in /usr/local/lib/python3.7/dist-packages (1.0.2)\n",
            "Requirement already satisfied: joblib>=0.11 in /usr/local/lib/python3.7/dist-packages (from scikit-learn) (1.1.0)\n",
            "Requirement already satisfied: numpy>=1.14.6 in /usr/local/lib/python3.7/dist-packages (from scikit-learn) (1.21.6)\n",
            "Requirement already satisfied: scipy>=1.1.0 in /usr/local/lib/python3.7/dist-packages (from scikit-learn) (1.4.1)\n",
            "Requirement already satisfied: threadpoolctl>=2.0.0 in /usr/local/lib/python3.7/dist-packages (from scikit-learn) (3.1.0)\n",
            "Requirement already satisfied: pandas in /usr/local/lib/python3.7/dist-packages (1.3.5)\n",
            "Requirement already satisfied: python-dateutil>=2.7.3 in /usr/local/lib/python3.7/dist-packages (from pandas) (2.8.2)\n",
            "Requirement already satisfied: numpy>=1.17.3 in /usr/local/lib/python3.7/dist-packages (from pandas) (1.21.6)\n",
            "Requirement already satisfied: pytz>=2017.3 in /usr/local/lib/python3.7/dist-packages (from pandas) (2022.1)\n",
            "Requirement already satisfied: six>=1.5 in /usr/local/lib/python3.7/dist-packages (from python-dateutil>=2.7.3->pandas) (1.15.0)\n"
          ]
        }
      ]
    },
    {
      "cell_type": "code",
      "execution_count": 34,
      "metadata": {
        "id": "fZAhLmM9W_SD",
        "colab": {
          "base_uri": "https://localhost:8080/"
        },
        "outputId": "ea441b12-0749-4c35-eea3-048cc4c32bc9"
      },
      "outputs": [
        {
          "output_type": "stream",
          "name": "stdout",
          "text": [
            "               TF-IDF\n",
            "publish_date      1.0\n",
            "headline_text     0.0\n",
            "               TF-IDF\n",
            "publish_date      1.0\n",
            "headline_text     0.0\n"
          ]
        },
        {
          "output_type": "stream",
          "name": "stderr",
          "text": [
            "/usr/local/lib/python3.7/dist-packages/sklearn/utils/deprecation.py:87: FutureWarning: Function get_feature_names is deprecated; get_feature_names is deprecated in 1.0 and will be removed in 1.2. Please use get_feature_names_out instead.\n",
            "  warnings.warn(msg, category=FutureWarning)\n"
          ]
        }
      ],
      "source": [
        "# TODO: Compute the TF-IDF using scikit learn\n",
        "# Import the module\n",
        "import pandas as pd\n",
        "from sklearn.feature_extraction.text import TfidfTransformer\n",
        "from sklearn.feature_extraction.text import TfidfVectorizer\n",
        "\n",
        "data = pd.read_csv('headlines.csv')\n",
        "# Instantiate the TF-IDF vectorizer\n",
        "tfIdfVectorizer=TfidfVectorizer(use_idf=True)\n",
        "tfIdf = tfIdfVectorizer.fit_transform(data)\n",
        "df = pd.DataFrame(tfIdf[0].T.todense(), index=tfIdfVectorizer.get_feature_names(), columns=[\"TF-IDF\"])\n",
        "df = df.sort_values('TF-IDF', ascending=False)\n",
        "print (df.head(25))\n",
        "# Compute the TF-IDF\n",
        "print (df.head(10))"
      ]
    },
    {
      "cell_type": "markdown",
      "metadata": {
        "id": "1dZV2UEKW_SE"
      },
      "source": [
        "Compare the 10 highest and lowest TF-IDF words on average to the ones you had by yourself."
      ]
    }
  ],
  "metadata": {
    "kernelspec": {
      "display_name": "Python 3 (ipykernel)",
      "language": "python",
      "name": "python3"
    },
    "language_info": {
      "codemirror_mode": {
        "name": "ipython",
        "version": 3
      },
      "file_extension": ".py",
      "mimetype": "text/x-python",
      "name": "python",
      "nbconvert_exporter": "python",
      "pygments_lexer": "ipython3",
      "version": "3.9.7"
    },
    "toc": {
      "base_numbering": 1,
      "nav_menu": {},
      "number_sections": true,
      "sideBar": true,
      "skip_h1_title": false,
      "title_cell": "Table of Contents",
      "title_sidebar": "Contents",
      "toc_cell": false,
      "toc_position": {},
      "toc_section_display": true,
      "toc_window_display": false
    },
    "colab": {
      "name": "TF-IDF(1).ipynb",
      "provenance": [],
      "include_colab_link": true
    }
  },
  "nbformat": 4,
  "nbformat_minor": 0
}